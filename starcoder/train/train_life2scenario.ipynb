{
 "cells": [
  {
   "cell_type": "code",
   "execution_count": 1,
   "metadata": {},
   "outputs": [
    {
     "name": "stderr",
     "output_type": "stream",
     "text": [
      "2024-03-14 00:15:51.417834: E external/local_xla/xla/stream_executor/cuda/cuda_dnn.cc:9261] Unable to register cuDNN factory: Attempting to register factory for plugin cuDNN when one has already been registered\n",
      "2024-03-14 00:15:51.417871: E external/local_xla/xla/stream_executor/cuda/cuda_fft.cc:607] Unable to register cuFFT factory: Attempting to register factory for plugin cuFFT when one has already been registered\n",
      "2024-03-14 00:15:51.418843: E external/local_xla/xla/stream_executor/cuda/cuda_blas.cc:1515] Unable to register cuBLAS factory: Attempting to register factory for plugin cuBLAS when one has already been registered\n",
      "2024-03-14 00:15:51.423695: I tensorflow/core/platform/cpu_feature_guard.cc:182] This TensorFlow binary is optimized to use available CPU instructions in performance-critical operations.\n",
      "To enable the following instructions: AVX2 FMA, in other operations, rebuild TensorFlow with the appropriate compiler flags.\n",
      "2024-03-14 00:15:51.969823: W tensorflow/compiler/tf2tensorrt/utils/py_utils.cc:38] TF-TRT Warning: Could not find TensorRT\n",
      "Overriding torch_dtype=None with `torch_dtype=torch.float16` due to requirements of `bitsandbytes` to enable model loading in mixed int8. Either pass torch_dtype=torch.float16 or don't pass this argument at all to remove this warning.\n"
     ]
    },
    {
     "data": {
      "application/vnd.jupyter.widget-view+json": {
       "model_id": "5c134c3dcf014aba814aa57b8ce8a921",
       "version_major": 2,
       "version_minor": 0
      },
      "text/plain": [
       "Loading checkpoint shards:   0%|          | 0/7 [00:00<?, ?it/s]"
      ]
     },
     "metadata": {},
     "output_type": "display_data"
    }
   ],
   "source": [
    "from transformers import AutoModelForCausalLM, AutoTokenizer\n",
    "\n",
    "checkpoint = \"bigcode/starcoder\"\n",
    "device = \"cuda\" # for GPU usage or \"cpu\" for CPU usage\n",
    "\n",
    "tokenizer = AutoTokenizer.from_pretrained(checkpoint)\n",
    "# to save memory consider using fp16 or bf16 by specifying torch_dtype=torch.float16 for example\n",
    "model = AutoModelForCausalLM.from_pretrained(checkpoint, device_map='auto', load_in_8bit=True)"
   ]
  },
  {
   "cell_type": "code",
   "execution_count": null,
   "metadata": {},
   "outputs": [],
   "source": [
    "inputs = tokenizer.encode(\"def merge_sort():\", return_tensors=\"pt\").to(device)\n",
    "outputs = model.generate(inputs)\n",
    "# clean_up_tokenization_spaces=False prevents a tokenizer edge case which can result in spaces being removed around punctuation\n",
    "print(tokenizer.decode(outputs[0], clean_up_tokenization_spaces=True))"
   ]
  },
  {
   "cell_type": "code",
   "execution_count": null,
   "metadata": {},
   "outputs": [],
   "source": [
    "from transformers import AutoModelForCausalLM, AutoTokenizer, pipeline\n",
    "import torch\n",
    "checkpoint = \"bigcode/starcoderbase-1b\"\n",
    "\n",
    "model = AutoModelForCausalLM.from_pretrained(\"checkpoints2/checkpoint-60\", load_in_8bit=True, device_map='auto')\n",
    "tokenizer = AutoTokenizer.from_pretrained(checkpoint, load_in_8bit=True, device_map='auto')\n",
    "\n",
    "pipe = pipeline(\"text-generation\", model=model, tokenizer=tokenizer, max_length=3000)\n",
    "\n",
    "\n",
    "print( pipe(\"def hello():\") )"
   ]
  },
  {
   "cell_type": "code",
   "execution_count": 6,
   "metadata": {},
   "outputs": [
    {
     "name": "stdout",
     "output_type": "stream",
     "text": [
      "2024-03-14 02:19:59.956286: E external/local_xla/xla/stream_executor/cuda/cuda_dnn.cc:9261] Unable to register cuDNN factory: Attempting to register factory for plugin cuDNN when one has already been registered\n",
      "2024-03-14 02:19:59.956322: E external/local_xla/xla/stream_executor/cuda/cuda_fft.cc:607] Unable to register cuFFT factory: Attempting to register factory for plugin cuFFT when one has already been registered\n",
      "2024-03-14 02:19:59.957285: E external/local_xla/xla/stream_executor/cuda/cuda_blas.cc:1515] Unable to register cuBLAS factory: Attempting to register factory for plugin cuBLAS when one has already been registered\n",
      "2024-03-14 02:19:59.961902: I tensorflow/core/platform/cpu_feature_guard.cc:182] This TensorFlow binary is optimized to use available CPU instructions in performance-critical operations.\n",
      "To enable the following instructions: AVX2 FMA, in other operations, rebuild TensorFlow with the appropriate compiler flags.\n",
      "2024-03-14 02:20:00.557322: W tensorflow/compiler/tf2tensorrt/utils/py_utils.cc:38] TF-TRT Warning: Could not find TensorRT\n",
      "/home/mkbashar/anaconda3/envs/orbbec/lib/python3.10/site-packages/transformers/models/auto/tokenization_auto.py:729: FutureWarning: The `use_auth_token` argument is deprecated and will be removed in v5 of Transformers. Please use `token` instead.\n",
      "  warnings.warn(\n",
      "Traceback (most recent call last):\n",
      "  File \"/home/mkbashar/Downloads/nlp/project/starcoder/finetune/finetune.py\", line 337, in <module>\n",
      "    main(args)\n",
      "  File \"/home/mkbashar/Downloads/nlp/project/starcoder/finetune/finetune.py\", line 325, in main\n",
      "    train_dataset, eval_dataset = create_datasets(tokenizer, args)\n",
      "  File \"/home/mkbashar/Downloads/nlp/project/starcoder/finetune/finetune.py\", line 223, in create_datasets\n",
      "    dataset = IterableDataset.from_generator(gen)\n",
      "AttributeError: type object 'IterableDataset' has no attribute 'from_generator'\n"
     ]
    }
   ],
   "source": [
    "!python -m torch.distributed.run --nproc_per_node 2 finetune/finetune.py   --model_path=\"bigcode/starcoderbase-1b\"  --dataset_name=\"ArmelR/stack-exchange-instruction\"  --subset=\"data/finetune\"  --split=\"train\"  --size_valid_set 2000  --streaming  --seq_length 4096  --max_steps 100  --batch_size 1  --input_column_name=\"prompt\"  --output_column_name=\"target\"  --gradient_accumulation_steps 16  --learning_rate 1e-4  --lr_scheduler_type=\"cosine\"  --num_warmup_steps 10  --weight_decay 0.05  --output_dir=\"./checkpoints\" --bf16"
   ]
  },
  {
   "cell_type": "code",
   "execution_count": 8,
   "metadata": {},
   "outputs": [
    {
     "name": "stdout",
     "output_type": "stream",
     "text": [
      "{'prompt': '<!-- would you add pedestrian close to hero -->\\n<?xml version=\"1.0\" ?>\\n<OpenSCENARIO>\\n  <FileHeader revMajor=\"1\" revMinor=\"0\" date=\"2020-03-24T12:00:00\" description=\"CARLA:LaneChangeSimple\" author=\"\"/>\\n  <ParameterDeclarations/>\\n  <CatalogLocations/>\\n  <RoadNetwork>\\n    <LogicFile filepath=\"Town04\"/>\\n    <SceneGraphFile filepath=\"\"/>\\n  </RoadNetwork>\\n  <Entities>\\n    <ScenarioObject name=\"hero\">\\n      <Vehicle name=\"vehicle.tesla.model3\" vehicleCategory=\"car\">\\n        <ParameterDeclarations/>\\n        <Performance maxSpeed=\"69.444\" maxAcceleration=\"200\" maxDeceleration=\"10.0\"/>\\n        <BoundingBox>\\n          <Center x=\"1.5\" y=\"0.0\" z=\"0.9\"/>\\n          <Dimensions width=\"2.1\" length=\"4.5\" height=\"1.8\"/>\\n        </BoundingBox>\\n        <Axles>\\n          <FrontAxle maxSteering=\"0.5\" wheelDiameter=\"0.6\" trackWidth=\"1.8\" positionX=\"3.1\" positionZ=\"0.3\"/>\\n          <RearAxle maxSteering=\"0.0\" wheelDiameter=\"0.6\" trackWidth=\"1.8\" positionX=\"0.0\" positionZ=\"0.3\"/>\\n        </Axles>\\n        <Properties>\\n          <Property name=\"type\" value=\"ego_vehicle\"/>\\n        </Properties>\\n      </Vehicle>\\n    </ScenarioObject>\\n    <ScenarioObject name=\"adversary\">\\n      <Vehicle name=\"vehicle.lincoln.mkz_2017\" vehicleCategory=\"car\">\\n        <ParameterDeclarations/>\\n        <Performance maxSpeed=\"69.444\" maxAcceleration=\"200\" maxDeceleration=\"10.0\"/>\\n        <BoundingBox>\\n          <Center x=\"1.5\" y=\"0.0\" z=\"0.9\"/>\\n          <Dimensions width=\"2.1\" length=\"4.5\" height=\"1.8\"/>\\n        </BoundingBox>\\n        <Axles>\\n          <FrontAxle maxSteering=\"0.5\" wheelDiameter=\"0.6\" trackWidth=\"1.8\" positionX=\"3.1\" positionZ=\"0.3\"/>\\n          <RearAxle maxSteering=\"0.0\" wheelDiameter=\"0.6\" trackWidth=\"1.8\" positionX=\"0.0\" positionZ=\"0.3\"/>\\n        </Axles>\\n        <Properties>\\n          <Property name=\"type\" value=\"simulation\"/>\\n        </Properties>\\n      </Vehicle>\\n    </ScenarioObject>\\n    <ScenarioObject name=\"standing\">\\n      <Vehicle name=\"vehicle.volkswagen.t2\" vehicleCategory=\"car\">\\n        <ParameterDeclarations/>\\n        <Performance maxSpeed=\"69.444\" maxAcceleration=\"200\" maxDeceleration=\"10.0\"/>\\n        <BoundingBox>\\n          <Center x=\"1.5\" y=\"0.0\" z=\"0.9\"/>\\n          <Dimensions width=\"2.1\" length=\"4.5\" height=\"1.8\"/>\\n        </BoundingBox>\\n        <Axles>\\n          <FrontAxle maxSteering=\"0.5\" wheelDiameter=\"0.6\" trackWidth=\"1.8\" positionX=\"3.1\" positionZ=\"0.3\"/>\\n          <RearAxle maxSteering=\"0.0\" wheelDiameter=\"0.6\" trackWidth=\"1.8\" positionX=\"0.0\" positionZ=\"0.3\"/>\\n        </Axles>\\n        <Properties>\\n          <Property name=\"type\" value=\"simulation\"/>\\n        </Properties>\\n      </Vehicle>\\n    </ScenarioObject>\\n  </Entities>\\n  <Storyboard>\\n    <Init>\\n      <Actions>\\n        <GlobalAction>\\n          <EnvironmentAction>\\n            <Environment name=\"Environment1\">\\n              <TimeOfDay animation=\"false\" dateTime=\"2019-06-25T12:00:00\"/>\\n              <Weather cloudState=\"free\">\\n                <Sun intensity=\"0.85\" azimuth=\"0\" elevation=\"1.31\"/>\\n                <Fog visualRange=\"100000.0\"/>\\n                <Precipitation precipitationType=\"dry\" intensity=\"0.0\"/>\\n              </Weather>\\n              <RoadCondition frictionScaleFactor=\"1.0\"/>\\n            </Environment>\\n          </EnvironmentAction>\\n        </GlobalAction>\\n        <Private entityRef=\"hero\">\\n          <PrivateAction>\\n            <TeleportAction>\\n              <Position>\\n                <WorldPosition x=\"-9.4\" y=\"-152.8\" z=\"0.5\" h=\"1.57079632679\"/>\\n              </Position>\\n            </TeleportAction>\\n          </PrivateAction>\\n          <PrivateAction>\\n            <ControllerAction>\\n              <AssignControllerAction>\\n                <Controller name=\"HeroAgent\">\\n                  <Properties>\\n                    <Property name=\"module\" value=\"external_control\"/>\\n                  </Properties>\\n                </Controller>\\n              </AssignControllerAction>\\n              <OverrideControllerValueAction>\\n                <Throttle value=\"0\" active=\"false\"/>\\n                <Brake value=\"0\" active=\"false\"/>\\n                <Clutch value=\"0\" active=\"false\"/>\\n                <ParkingBrake value=\"0\" active=\"false\"/>\\n                <SteeringWheel value=\"0\" active=\"false\"/>\\n                <Gear number=\"0\" active=\"false\"/>\\n              </OverrideControllerValueAction>\\n            </ControllerAction>\\n          </PrivateAction>\\n        </Private>\\n        <Private entityRef=\"adversary\">\\n          <PrivateAction>\\n            <TeleportAction>\\n              <Position>\\n                <WorldPosition x=\"-9.4\" y=\"-71.0\" z=\"0.5\" h=\"1.57079632679\"/>\\n              </Position>\\n            </TeleportAction>\\n          </PrivateAction>\\n        </Private>\\n        <Private entityRef=\"standing\">\\n          <PrivateAction>\\n            <TeleportAction>\\n              <Position>\\n                <WorldPosition x=\"-8.2\" y=\"29.2\" z=\"0.5\" h=\"1.57079632679\"/>\\n              </Position>\\n            </TeleportAction>\\n          </PrivateAction>\\n        </Private>\\n      </Actions>\\n    </Init>\\n    <Story name=\"MyStory\">\\n      <Act name=\"Behavior\">\\n        <ManeuverGroup maximumExecutionCount=\"1\" name=\"ManeuverSequence\">\\n          <Actors selectTriggeringEntities=\"false\">\\n            <EntityRef entityRef=\"adversary\"/>\\n          </Actors>\\n          <Maneuver name=\"LaneChangeSimpleManeuver\">\\n            <Event name=\"AdversaryAccelerates\" priority=\"overwrite\">\\n              <Action name=\"AdversaryAccelerates\">\\n                <PrivateAction>\\n                  <LongitudinalAction>\\n                    <SpeedAction>\\n                      <SpeedActionDynamics dynamicsShape=\"step\" value=\"50\" dynamicsDimension=\"distance\"/>\\n                      <SpeedActionTarget>\\n                        <AbsoluteTargetSpeed value=\"5.0\"/>\\n                      </SpeedActionTarget>\\n                    </SpeedAction>\\n                  </LongitudinalAction>\\n                </PrivateAction>\\n              </Action>\\n              <StartTrigger>\\n                <ConditionGroup>\\n                  <Condition name=\"StartCondition\" delay=\"0\" conditionEdge=\"rising\">\\n                    <ByEntityCondition>\\n                      <TriggeringEntities triggeringEntitiesRule=\"any\">\\n                        <EntityRef entityRef=\"hero\"/>\\n                      </TriggeringEntities>\\n                      <EntityCondition>\\n                        <RelativeDistanceCondition entityRef=\"adversary\" relativeDistanceType=\"cartesianDistance\" value=\"40.0\" freespace=\"false\" rule=\"lessThan\"/>\\n                      </EntityCondition>\\n                    </ByEntityCondition>\\n                  </Condition>\\n                </ConditionGroup>\\n              </StartTrigger>\\n            </Event>\\n            <Event name=\"AdversaryChangesLane\" priority=\"overwrite\">\\n              <Action name=\"AdversaryChangesLane\">\\n                <PrivateAction>\\n                  <LateralAction>\\n                    <LaneChangeAction>\\n                      <LaneChangeActionDynamics dynamicsShape=\"linear\" value=\"25\" dynamicsDimension=\"distance\"/>\\n                      <LaneChangeTarget>\\n                        <RelativeTargetLane entityRef=\"adversary\" value=\"-1\"/>\\n                      </LaneChangeTarget>\\n                    </LaneChangeAction>\\n                  </LateralAction>\\n                </PrivateAction>\\n              </Action>\\n              <StartTrigger>\\n                <ConditionGroup>\\n                  <Condition name=\"AfterAdversaryAccelerates\" delay=\"0\" conditionEdge=\"rising\">\\n                    <ByValueCondition>\\n                      <StoryboardElementStateCondition storyboardElementType=\"action\" storyboardElementRef=\"AdversaryAccelerates\" state=\"completeState\"/>\\n                    </ByValueCondition>\\n                  </Condition>\\n                </ConditionGroup>\\n              </StartTrigger>\\n            </Event>\\n          </Maneuver>\\n        </ManeuverGroup>\\n        <StartTrigger>\\n          <ConditionGroup>\\n            <Condition name=\"OverallStartCondition\" delay=\"0\" conditionEdge=\"rising\">\\n              <ByEntityCondition>\\n                <TriggeringEntities triggeringEntitiesRule=\"any\">\\n                  <EntityRef entityRef=\"hero\"/>\\n                </TriggeringEntities>\\n                <EntityCondition>\\n                  <TraveledDistanceCondition value=\"1.0\"/>\\n                </EntityCondition>\\n              </ByEntityCondition>\\n            </Condition>\\n            <Condition name=\"StartTime\" delay=\"0\" conditionEdge=\"rising\">\\n              <ByValueCondition>\\n                <SimulationTimeCondition value=\"0\" rule=\"equalTo\"/>\\n              </ByValueCondition>\\n            </Condition>\\n          </ConditionGroup>\\n        </StartTrigger>\\n        <StopTrigger>\\n          <ConditionGroup>\\n            <Condition name=\"EndCondition\" delay=\"0\" conditionEdge=\"rising\">\\n              <ByEntityCondition>\\n                <TriggeringEntities triggeringEntitiesRule=\"any\">\\n                  <EntityRef entityRef=\"hero\"/>\\n                </TriggeringEntities>\\n                <EntityCondition>\\n                  <TraveledDistanceCondition value=\"200.0\"/>\\n                </EntityCondition>\\n              </ByEntityCondition>\\n            </Condition>\\n          </ConditionGroup>\\n        </StopTrigger>\\n      </Act>\\n    </Story>\\n    <StopTrigger>\\n      <ConditionGroup>\\n        <Condition name=\"criteria_RunningStopTest\" delay=\"0\" conditionEdge=\"rising\">\\n          <ByValueCondition>\\n            <ParameterCondition parameterRef=\"\" value=\"\" rule=\"lessThan\"/>\\n          </ByValueCondition>\\n        </Condition>\\n        <Condition name=\"criteria_RunningRedLightTest\" delay=\"0\" conditionEdge=\"rising\">\\n          <ByValueCondition>\\n            <ParameterCondition parameterRef=\"\" value=\"\" rule=\"lessThan\"/>\\n          </ByValueCondition>\\n        </Condition>\\n        <Condition name=\"criteria_WrongLaneTest\" delay=\"0\" conditionEdge=\"rising\">\\n          <ByValueCondition>\\n            <ParameterCondition parameterRef=\"\" value=\"\" rule=\"lessThan\"/>\\n          </ByValueCondition>\\n        </Condition>\\n        <Condition name=\"criteria_OnSidewalkTest\" delay=\"0\" conditionEdge=\"rising\">\\n          <ByValueCondition>\\n            <ParameterCondition parameterRef=\"\" value=\"\" rule=\"lessThan\"/>\\n          </ByValueCondition>\\n        </Condition>\\n        <Condition name=\"criteria_KeepLaneTest\" delay=\"0\" conditionEdge=\"rising\">\\n          <ByValueCondition>\\n            <ParameterCondition parameterRef=\"\" value=\"\" rule=\"lessThan\"/>\\n          </ByValueCondition>\\n        </Condition>\\n        <Condition name=\"criteria_CollisionTest\" delay=\"0\" conditionEdge=\"rising\">\\n          <ByValueCondition>\\n            <ParameterCondition parameterRef=\"\" value=\"\" rule=\"lessThan\"/>\\n          </ByValueCondition>\\n        </Condition>\\n        <Condition name=\"criteria_DrivenDistanceTest\" delay=\"0\" conditionEdge=\"rising\">\\n          <ByValueCondition>\\n            <ParameterCondition parameterRef=\"distance_success\" value=\"100\" rule=\"lessThan\"/>\\n          </ByValueCondition>\\n        </Condition>\\n      </ConditionGroup>\\n    </StopTrigger>\\n  </Storyboard>\\n</OpenSCENARIO>', 'target': '<?xml version=\"1.0\" ?>\\n<OpenSCENARIO>\\n  <FileHeader revMajor=\"1\" revMinor=\"0\" date=\"2020-03-24T12:00:00\" description=\"CARLA:LaneChangeSimple\" author=\"\"/>\\n  <ParameterDeclarations/>\\n  <CatalogLocations/>\\n  <RoadNetwork>\\n    <LogicFile filepath=\"Town04\"/>\\n    <SceneGraphFile filepath=\"\"/>\\n  </RoadNetwork>\\n  <Entities>\\n    <ScenarioObject name=\"hero\">\\n      <Vehicle name=\"vehicle.tesla.model3\" vehicleCategory=\"car\">\\n        <ParameterDeclarations/>\\n        <Performance maxSpeed=\"69.444\" maxAcceleration=\"200\" maxDeceleration=\"10.0\"/>\\n        <BoundingBox>\\n          <Center x=\"1.5\" y=\"0.0\" z=\"0.9\"/>\\n          <Dimensions width=\"2.1\" length=\"4.5\" height=\"1.8\"/>\\n        </BoundingBox>\\n        <Axles>\\n          <FrontAxle maxSteering=\"0.5\" wheelDiameter=\"0.6\" trackWidth=\"1.8\" positionX=\"3.1\" positionZ=\"0.3\"/>\\n          <RearAxle maxSteering=\"0.0\" wheelDiameter=\"0.6\" trackWidth=\"1.8\" positionX=\"0.0\" positionZ=\"0.3\"/>\\n        </Axles>\\n        <Properties>\\n          <Property name=\"type\" value=\"ego_vehicle\"/>\\n        </Properties>\\n      </Vehicle>\\n    </ScenarioObject>\\n    <ScenarioObject name=\"adversary\">\\n      <Vehicle name=\"vehicle.lincoln.mkz_2017\" vehicleCategory=\"car\">\\n        <ParameterDeclarations/>\\n        <Performance maxSpeed=\"69.444\" maxAcceleration=\"200\" maxDeceleration=\"10.0\"/>\\n        <BoundingBox>\\n          <Center x=\"1.5\" y=\"0.0\" z=\"0.9\"/>\\n          <Dimensions width=\"2.1\" length=\"4.5\" height=\"1.8\"/>\\n        </BoundingBox>\\n        <Axles>\\n          <FrontAxle maxSteering=\"0.5\" wheelDiameter=\"0.6\" trackWidth=\"1.8\" positionX=\"3.1\" positionZ=\"0.3\"/>\\n          <RearAxle maxSteering=\"0.0\" wheelDiameter=\"0.6\" trackWidth=\"1.8\" positionX=\"0.0\" positionZ=\"0.3\"/>\\n        </Axles>\\n        <Properties>\\n          <Property name=\"type\" value=\"simulation\"/>\\n        </Properties>\\n      </Vehicle>\\n    </ScenarioObject>\\n    <ScenarioObject name=\"standing\">\\n      <Vehicle name=\"vehicle.volkswagen.t2\" vehicleCategory=\"car\">\\n        <ParameterDeclarations/>\\n        <Performance maxSpeed=\"69.444\" maxAcceleration=\"200\" maxDeceleration=\"10.0\"/>\\n        <BoundingBox>\\n          <Center x=\"1.5\" y=\"0.0\" z=\"0.9\"/>\\n          <Dimensions width=\"2.1\" length=\"4.5\" height=\"1.8\"/>\\n        </BoundingBox>\\n        <Axles>\\n          <FrontAxle maxSteering=\"0.5\" wheelDiameter=\"0.6\" trackWidth=\"1.8\" positionX=\"3.1\" positionZ=\"0.3\"/>\\n          <RearAxle maxSteering=\"0.0\" wheelDiameter=\"0.6\" trackWidth=\"1.8\" positionX=\"0.0\" positionZ=\"0.3\"/>\\n        </Axles>\\n        <Properties>\\n          <Property name=\"type\" value=\"simulation\"/>\\n        </Properties>\\n      </Vehicle>\\n    </ScenarioObject>\\n    <ScenarioObject name=\"pedestrian_close_to_hero_1\">\\n      <Pedestrian model=\"walker.pedestrian.0001\" mass=\"80\" name=\"walker.pedestrian.0001\" pedestrianCategory=\"pedestrian\">\\n        <ParameterDeclarations/>\\n        <BoundingBox>\\n          <Center x=\"1.5\" y=\"0.0\" z=\"0.9\"/>\\n          <Dimensions width=\"2\" length=\"2\" height=\"2\"/>\\n        </BoundingBox>\\n        <Properties>\\n          <Property name=\"type\" value=\"simulation\"/>\\n        </Properties>\\n      </Pedestrian>\\n    </ScenarioObject>\\n  </Entities>\\n  <Storyboard>\\n    <Init>\\n      <Actions>\\n        <GlobalAction>\\n          <EnvironmentAction>\\n            <Environment name=\"Environment1\">\\n              <TimeOfDay animation=\"false\" dateTime=\"2019-06-25T12:00:00\"/>\\n              <Weather cloudState=\"free\">\\n                <Sun intensity=\"0.85\" azimuth=\"0\" elevation=\"1.31\"/>\\n                <Fog visualRange=\"100000.0\"/>\\n                <Precipitation precipitationType=\"dry\" intensity=\"0.0\"/>\\n              </Weather>\\n              <RoadCondition frictionScaleFactor=\"1.0\"/>\\n            </Environment>\\n          </EnvironmentAction>\\n        </GlobalAction>\\n        <Private entityRef=\"hero\">\\n          <PrivateAction>\\n            <TeleportAction>\\n              <Position>\\n                <WorldPosition x=\"-9.4\" y=\"-152.8\" z=\"0.5\" h=\"1.57079632679\"/>\\n              </Position>\\n            </TeleportAction>\\n          </PrivateAction>\\n          <PrivateAction>\\n            <ControllerAction>\\n              <AssignControllerAction>\\n                <Controller name=\"HeroAgent\">\\n                  <Properties>\\n                    <Property name=\"module\" value=\"external_control\"/>\\n                  </Properties>\\n                </Controller>\\n              </AssignControllerAction>\\n              <OverrideControllerValueAction>\\n                <Throttle value=\"0\" active=\"false\"/>\\n                <Brake value=\"0\" active=\"false\"/>\\n                <Clutch value=\"0\" active=\"false\"/>\\n                <ParkingBrake value=\"0\" active=\"false\"/>\\n                <SteeringWheel value=\"0\" active=\"false\"/>\\n                <Gear number=\"0\" active=\"false\"/>\\n              </OverrideControllerValueAction>\\n            </ControllerAction>\\n          </PrivateAction>\\n        </Private>\\n        <Private entityRef=\"adversary\">\\n          <PrivateAction>\\n            <TeleportAction>\\n              <Position>\\n                <WorldPosition x=\"-9.4\" y=\"-71.0\" z=\"0.5\" h=\"1.57079632679\"/>\\n              </Position>\\n            </TeleportAction>\\n          </PrivateAction>\\n        </Private>\\n        <Private entityRef=\"standing\">\\n          <PrivateAction>\\n            <TeleportAction>\\n              <Position>\\n                <WorldPosition x=\"-8.2\" y=\"29.2\" z=\"0.5\" h=\"1.57079632679\"/>\\n              </Position>\\n            </TeleportAction>\\n          </PrivateAction>\\n        </Private>\\n        <Private entityRef=\"pedestrian_close_to_hero_1\">\\n          <PrivateAction>\\n            <TeleportAction>\\n              <Position>\\n                <WorldPosition x=\"-14.103339195251465\" y=\"-161.1573486328125\" z=\"0.0014286803780123591\"/>\\n              </Position>\\n            </TeleportAction>\\n          </PrivateAction>\\n        </Private>\\n      </Actions>\\n    </Init>\\n    <Story name=\"MyStory\">\\n      <Act name=\"Behavior\">\\n        <ManeuverGroup maximumExecutionCount=\"1\" name=\"ManeuverSequence\">\\n          <Actors selectTriggeringEntities=\"false\">\\n            <EntityRef entityRef=\"adversary\"/>\\n          </Actors>\\n          <Maneuver name=\"LaneChangeSimpleManeuver\">\\n            <Event name=\"AdversaryAccelerates\" priority=\"overwrite\">\\n              <Action name=\"AdversaryAccelerates\">\\n                <PrivateAction>\\n                  <LongitudinalAction>\\n                    <SpeedAction>\\n                      <SpeedActionDynamics dynamicsShape=\"step\" value=\"50\" dynamicsDimension=\"distance\"/>\\n                      <SpeedActionTarget>\\n                        <AbsoluteTargetSpeed value=\"5.0\"/>\\n                      </SpeedActionTarget>\\n                    </SpeedAction>\\n                  </LongitudinalAction>\\n                </PrivateAction>\\n              </Action>\\n              <StartTrigger>\\n                <ConditionGroup>\\n                  <Condition name=\"StartCondition\" delay=\"0\" conditionEdge=\"rising\">\\n                    <ByEntityCondition>\\n                      <TriggeringEntities triggeringEntitiesRule=\"any\">\\n                        <EntityRef entityRef=\"hero\"/>\\n                      </TriggeringEntities>\\n                      <EntityCondition>\\n                        <RelativeDistanceCondition entityRef=\"adversary\" relativeDistanceType=\"cartesianDistance\" value=\"40.0\" freespace=\"false\" rule=\"lessThan\"/>\\n                      </EntityCondition>\\n                    </ByEntityCondition>\\n                  </Condition>\\n                </ConditionGroup>\\n              </StartTrigger>\\n            </Event>\\n            <Event name=\"AdversaryChangesLane\" priority=\"overwrite\">\\n              <Action name=\"AdversaryChangesLane\">\\n                <PrivateAction>\\n                  <LateralAction>\\n                    <LaneChangeAction>\\n                      <LaneChangeActionDynamics dynamicsShape=\"linear\" value=\"25\" dynamicsDimension=\"distance\"/>\\n                      <LaneChangeTarget>\\n                        <RelativeTargetLane entityRef=\"adversary\" value=\"-1\"/>\\n                      </LaneChangeTarget>\\n                    </LaneChangeAction>\\n                  </LateralAction>\\n                </PrivateAction>\\n              </Action>\\n              <StartTrigger>\\n                <ConditionGroup>\\n                  <Condition name=\"AfterAdversaryAccelerates\" delay=\"0\" conditionEdge=\"rising\">\\n                    <ByValueCondition>\\n                      <StoryboardElementStateCondition storyboardElementType=\"action\" storyboardElementRef=\"AdversaryAccelerates\" state=\"completeState\"/>\\n                    </ByValueCondition>\\n                  </Condition>\\n                </ConditionGroup>\\n              </StartTrigger>\\n            </Event>\\n          </Maneuver>\\n        </ManeuverGroup>\\n        <StartTrigger>\\n          <ConditionGroup>\\n            <Condition name=\"OverallStartCondition\" delay=\"0\" conditionEdge=\"rising\">\\n              <ByEntityCondition>\\n                <TriggeringEntities triggeringEntitiesRule=\"any\">\\n                  <EntityRef entityRef=\"hero\"/>\\n                </TriggeringEntities>\\n                <EntityCondition>\\n                  <TraveledDistanceCondition value=\"1.0\"/>\\n                </EntityCondition>\\n              </ByEntityCondition>\\n            </Condition>\\n            <Condition name=\"StartTime\" delay=\"0\" conditionEdge=\"rising\">\\n              <ByValueCondition>\\n                <SimulationTimeCondition value=\"0\" rule=\"equalTo\"/>\\n              </ByValueCondition>\\n            </Condition>\\n          </ConditionGroup>\\n        </StartTrigger>\\n        <StopTrigger>\\n          <ConditionGroup>\\n            <Condition name=\"EndCondition\" delay=\"0\" conditionEdge=\"rising\">\\n              <ByEntityCondition>\\n                <TriggeringEntities triggeringEntitiesRule=\"any\">\\n                  <EntityRef entityRef=\"hero\"/>\\n                </TriggeringEntities>\\n                <EntityCondition>\\n                  <TraveledDistanceCondition value=\"200.0\"/>\\n                </EntityCondition>\\n              </ByEntityCondition>\\n            </Condition>\\n          </ConditionGroup>\\n        </StopTrigger>\\n      </Act>\\n    </Story>\\n    <StopTrigger>\\n      <ConditionGroup>\\n        <Condition name=\"criteria_RunningStopTest\" delay=\"0\" conditionEdge=\"rising\">\\n          <ByValueCondition>\\n            <ParameterCondition parameterRef=\"\" value=\"\" rule=\"lessThan\"/>\\n          </ByValueCondition>\\n        </Condition>\\n        <Condition name=\"criteria_RunningRedLightTest\" delay=\"0\" conditionEdge=\"rising\">\\n          <ByValueCondition>\\n            <ParameterCondition parameterRef=\"\" value=\"\" rule=\"lessThan\"/>\\n          </ByValueCondition>\\n        </Condition>\\n        <Condition name=\"criteria_WrongLaneTest\" delay=\"0\" conditionEdge=\"rising\">\\n          <ByValueCondition>\\n            <ParameterCondition parameterRef=\"\" value=\"\" rule=\"lessThan\"/>\\n          </ByValueCondition>\\n        </Condition>\\n        <Condition name=\"criteria_OnSidewalkTest\" delay=\"0\" conditionEdge=\"rising\">\\n          <ByValueCondition>\\n            <ParameterCondition parameterRef=\"\" value=\"\" rule=\"lessThan\"/>\\n          </ByValueCondition>\\n        </Condition>\\n        <Condition name=\"criteria_KeepLaneTest\" delay=\"0\" conditionEdge=\"rising\">\\n          <ByValueCondition>\\n            <ParameterCondition parameterRef=\"\" value=\"\" rule=\"lessThan\"/>\\n          </ByValueCondition>\\n        </Condition>\\n        <Condition name=\"criteria_CollisionTest\" delay=\"0\" conditionEdge=\"rising\">\\n          <ByValueCondition>\\n            <ParameterCondition parameterRef=\"\" value=\"\" rule=\"lessThan\"/>\\n          </ByValueCondition>\\n        </Condition>\\n        <Condition name=\"criteria_DrivenDistanceTest\" delay=\"0\" conditionEdge=\"rising\">\\n          <ByValueCondition>\\n            <ParameterCondition parameterRef=\"distance_success\" value=\"100\" rule=\"lessThan\"/>\\n          </ByValueCondition>\\n        </Condition>\\n      </ConditionGroup>\\n    </StopTrigger>\\n  </Storyboard>\\n</OpenSCENARIO>'}\n"
     ]
    }
   ],
   "source": [
    "import glob\n",
    "from datasets import IterableDataset\n",
    "\n",
    "def gen():\n",
    "    prompts_list = glob.glob('dataset/train/prompts/*.txt')\n",
    "    prompts_list.sort()\n",
    "    ref_list = glob.glob('dataset/train/ref_scenarios/*.xosc')\n",
    "    ref_list.sort()\n",
    "    target_list = glob.glob('dataset/train/target_scenarios/*.xosc')\n",
    "    target_list.sort()\n",
    "\n",
    "    for i in range(len(ref_list)):\n",
    "        with open(prompts_list[i], 'r') as prompt:\n",
    "            with open(ref_list[i], 'r') as ref:\n",
    "                with open(target_list[i], 'r') as target:\n",
    "                    prompt = prompt.read()\n",
    "                    ref = ref.read()\n",
    "                    add = \"<!-- \" + prompt + \" -->\\n\"\n",
    "                    ref = add + ref\n",
    "                    target = target.read()\n",
    "                    yield {'prompt': ref, 'target': target}\n",
    "\n",
    "ds = IterableDataset.from_generator(gen)\n",
    "\n",
    "for example in ds:\n",
    "    print(example)\n",
    "    break"
   ]
  },
  {
   "cell_type": "code",
   "execution_count": null,
   "metadata": {},
   "outputs": [],
   "source": []
  }
 ],
 "metadata": {
  "kernelspec": {
   "display_name": "orbbec",
   "language": "python",
   "name": "python3"
  },
  "language_info": {
   "codemirror_mode": {
    "name": "ipython",
    "version": 3
   },
   "file_extension": ".py",
   "mimetype": "text/x-python",
   "name": "python",
   "nbconvert_exporter": "python",
   "pygments_lexer": "ipython3",
   "version": "3.10.12"
  }
 },
 "nbformat": 4,
 "nbformat_minor": 2
}
