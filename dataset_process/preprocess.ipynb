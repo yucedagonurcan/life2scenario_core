{
 "cells": [
  {
   "cell_type": "markdown",
   "metadata": {},
   "source": [
    "## Preprocess"
   ]
  },
  {
   "cell_type": "code",
   "execution_count": 45,
   "metadata": {},
   "outputs": [],
   "source": [
    "import xml.etree.ElementTree as ET\n",
    "import re\n",
    "\n",
    "input_file = 'test_input.xml'\n",
    "output_file = 'test_inter.xml'\n",
    "\n",
    "with open(input_file, 'r', encoding='utf-8') as input_file:\n",
    "    xml_data = input_file.read()\n",
    "\n",
    "tree = ET.ElementTree(ET.fromstring(xml_data))\n",
    "root = tree.getroot()\n",
    "\n",
    "def remove_elements_by_tag(tag_name):\n",
    "    for element in root.findall(f'.//{tag_name}'):\n",
    "        parent = root.find(f'.//{tag_name}/..')\n",
    "        if parent is not None:\n",
    "            parent.remove(element)\n",
    "            \n",
    "remove_elements_by_tag('GlobalAction')\n",
    "remove_elements_by_tag('Story')\n",
    "remove_elements_by_tag('StopTrigger')\n",
    "\n",
    "pattern = re.compile(r'\\s+(?=/>)')\n",
    "root = pattern.sub('', ET.tostring(root, encoding='unicode', method='xml'))\n",
    "declaration = '<?xml version=\"1.0\" ?>\\n'\n",
    "root = declaration + root\n",
    "\n",
    "with open(output_file, 'w', encoding='utf-8') as file:\n",
    "    file.write(root)\n"
   ]
  },
  {
   "cell_type": "markdown",
   "metadata": {},
   "source": [
    "## Postprocess\n"
   ]
  },
  {
   "cell_type": "code",
   "execution_count": 46,
   "metadata": {},
   "outputs": [],
   "source": [
    "import xml.etree.ElementTree as ET\n",
    "\n",
    "input_file = 'test_input.xml'\n",
    "inter_file = 'test_inter.xml'\n",
    "output_file = 'test_output.xml'\n",
    "\n",
    "with open(input_file, 'r', encoding='utf-8') as input_file:\n",
    "    input = input_file.read()\n",
    "\n",
    "tree1 = ET.ElementTree(ET.fromstring(input))\n",
    "root1 = tree1.getroot()\n",
    "\n",
    "with open(inter_file, 'r', encoding='utf-8') as input_file:\n",
    "    inter = input_file.read()\n",
    "\n",
    "tree2 = ET.ElementTree(ET.fromstring(inter))\n",
    "root2 = tree2.getroot()\n",
    "\n",
    "def extract_and_remove_elements_by_tag(root, tag_name, parent_tag_name=None):\n",
    "    parent = root.find(f'.//{parent_tag_name}')\n",
    "    if parent is None: \n",
    "        return []\n",
    "    elements = parent.findall(f'.//{tag_name}')\n",
    "    for element in elements:\n",
    "        parent.remove(element)\n",
    "  \n",
    "    return elements\n",
    "\n",
    "global_actions = extract_and_remove_elements_by_tag(root1, 'GlobalAction', 'Actions')\n",
    "stories = extract_and_remove_elements_by_tag(root1, 'Story', 'Storyboard')\n",
    "stop_triggers = extract_and_remove_elements_by_tag(root1, 'StopTrigger', 'Storyboard')\n",
    "\n",
    "actions = root2.find('.//Storyboard/Init/Actions')\n",
    "storyboard = root2.find('.//Storyboard')\n",
    "init_block = root2.find('.//Storyboard/Init')\n",
    "\n",
    "for i, action in enumerate(global_actions):\n",
    "    actions.insert(i, action)\n",
    "\n",
    "for story in stories:\n",
    "    init_index = list(storyboard).index(init_block) + 1\n",
    "    storyboard.insert(init_index, story)\n",
    "\n",
    "last_story_index = [i for i, child in enumerate(storyboard) if child.tag == 'Story'][-1]\n",
    "for stop_trigger in stop_triggers:\n",
    "    storyboard.insert(last_story_index + 1, stop_trigger)\n",
    "    last_story_index += 1  \n",
    "    \n",
    "pattern = re.compile(r'\\s+(?=/>)')\n",
    "root = pattern.sub('', ET.tostring(root2, encoding='unicode', method='xml'))\n",
    "declaration = '<?xml version=\"1.0\" ?>\\n'\n",
    "root = declaration + root\n",
    "\n",
    "with open(output_file, 'w', encoding='utf-8') as file:\n",
    "    file.write(root)\n"
   ]
  },
  {
   "cell_type": "code",
   "execution_count": null,
   "metadata": {},
   "outputs": [],
   "source": []
  }
 ],
 "metadata": {
  "kernelspec": {
   "display_name": "dl",
   "language": "python",
   "name": "python3"
  },
  "language_info": {
   "codemirror_mode": {
    "name": "ipython",
    "version": 3
   },
   "file_extension": ".py",
   "mimetype": "text/x-python",
   "name": "python",
   "nbconvert_exporter": "python",
   "pygments_lexer": "ipython3",
   "version": "3.10.14"
  }
 },
 "nbformat": 4,
 "nbformat_minor": 2
}
