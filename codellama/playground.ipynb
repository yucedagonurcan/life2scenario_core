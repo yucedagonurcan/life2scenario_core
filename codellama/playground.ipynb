{
 "cells": [
  {
   "cell_type": "code",
   "execution_count": null,
   "metadata": {},
   "outputs": [],
   "source": [
    "accelerate launch codellama/finetune.py --model_id \"codellama/CodeLlama-13b-Instruct-hf\" --split \"train\"  --micro_batch_size 1 --learning_rate 2e-4 --num_proc 2"
   ]
  },
  {
   "cell_type": "code",
   "execution_count": 1,
   "metadata": {},
   "outputs": [
    {
     "name": "stdout",
     "output_type": "stream",
     "text": [
      "finetune.py  playground.ipynb\n"
     ]
    }
   ],
   "source": [
    "ls"
   ]
  },
  {
   "cell_type": "code",
   "execution_count": 1,
   "metadata": {},
   "outputs": [
    {
     "name": "stderr",
     "output_type": "stream",
     "text": [
      "2024-04-01 22:32:05.885334: E external/local_xla/xla/stream_executor/cuda/cuda_dnn.cc:9261] Unable to register cuDNN factory: Attempting to register factory for plugin cuDNN when one has already been registered\n",
      "2024-04-01 22:32:05.885362: E external/local_xla/xla/stream_executor/cuda/cuda_fft.cc:607] Unable to register cuFFT factory: Attempting to register factory for plugin cuFFT when one has already been registered\n",
      "2024-04-01 22:32:05.886350: E external/local_xla/xla/stream_executor/cuda/cuda_blas.cc:1515] Unable to register cuBLAS factory: Attempting to register factory for plugin cuBLAS when one has already been registered\n",
      "2024-04-01 22:32:05.891166: I tensorflow/core/platform/cpu_feature_guard.cc:182] This TensorFlow binary is optimized to use available CPU instructions in performance-critical operations.\n",
      "To enable the following instructions: AVX2 FMA, in other operations, rebuild TensorFlow with the appropriate compiler flags.\n",
      "2024-04-01 22:32:06.307729: W tensorflow/compiler/tf2tensorrt/utils/py_utils.cc:38] TF-TRT Warning: Could not find TensorRT\n"
     ]
    },
    {
     "data": {
      "application/vnd.jupyter.widget-view+json": {
       "model_id": "2c3b5a3df7094dbba45134ce7151ea97",
       "version_major": 2,
       "version_minor": 0
      },
      "text/plain": [
       "Loading checkpoint shards:   0%|          | 0/3 [00:00<?, ?it/s]"
      ]
     },
     "metadata": {},
     "output_type": "display_data"
    }
   ],
   "source": [
    "from transformers import AutoModelForCausalLM, AutoTokenizer, pipeline\n",
    "import torch\n",
    "from transformers import BitsAndBytesConfig\n",
    "from accelerate import PartialState\n",
    "checkpoint = \"../finetune_codellama2/checkpoint-300\"\n",
    "\n",
    "bnb_config = BitsAndBytesConfig(\n",
    "        load_in_4bit=True,\n",
    "        bnb_4bit_quant_type=\"nf4\",\n",
    "        bnb_4bit_compute_dtype=getattr(torch, \"float16\"),\n",
    "        bnb_4bit_use_double_quant=False,\n",
    "    )\n",
    "\n",
    "import os\n",
    "os.environ[\"CUDA_VISIBLE_DEVICES\"] = \"0,1\"\n",
    "\n",
    "model = AutoModelForCausalLM.from_pretrained(\"../finetune_codellama2/checkpoint-300\", quantization_config=bnb_config,device_map={\"\": PartialState().process_index})\n",
    "tokenizer = AutoTokenizer.from_pretrained(checkpoint, padding_side=\"right\")\n",
    "tokenizer.pad_token = tokenizer.eos_token\n",
    "\n",
    "pipe = pipeline(\"text-generation\", model=model, tokenizer=tokenizer, pad_token_id=tokenizer.eos_token_id, max_length=16000, use_cache=True, do_sample=True, temperature=0.9, num_return_sequences=1, clean_up_tokenization_spaces=False)"
   ]
  },
  {
   "cell_type": "code",
   "execution_count": 2,
   "metadata": {},
   "outputs": [
    {
     "data": {
      "application/vnd.jupyter.widget-view+json": {
       "model_id": "69f0771841f94c58bec38ac7bf177e2a",
       "version_major": 2,
       "version_minor": 0
      },
      "text/plain": [
       "Resolving data files:   0%|          | 0/18 [00:00<?, ?it/s]"
      ]
     },
     "metadata": {},
     "output_type": "display_data"
    },
    {
     "data": {
      "application/vnd.jupyter.widget-view+json": {
       "model_id": "de663aa856d0465f9bf57f0ef111b937",
       "version_major": 2,
       "version_minor": 0
      },
      "text/plain": [
       "Resolving data files:   0%|          | 0/18 [00:00<?, ?it/s]"
      ]
     },
     "metadata": {},
     "output_type": "display_data"
    },
    {
     "data": {
      "application/vnd.jupyter.widget-view+json": {
       "model_id": "8d89d5d79f6a46f896415382b901e0ff",
       "version_major": 2,
       "version_minor": 0
      },
      "text/plain": [
       "Loading dataset shards:   0%|          | 0/17 [00:00<?, ?it/s]"
      ]
     },
     "metadata": {},
     "output_type": "display_data"
    }
   ],
   "source": [
    "from datasets import load_dataset\n",
    "\n",
    "dataset = load_dataset(\"life2scenario-llm24/Life2Scenario-medium\")"
   ]
  },
  {
   "cell_type": "code",
   "execution_count": 3,
   "metadata": {},
   "outputs": [
    {
     "data": {
      "text/plain": [
       "{'request': 'i would like to ask you to remove pedestrian actor named pedestrian_close_to_standing_16548?\\n```\\n<?xml version=\"1.0\" ?>\\n<OpenSCENARIO>\\n  <FileHeader revMajor=\"1\" revMinor=\"0\" date=\"2020-03-24T12:00:00\" description=\"CARLA:LaneChangeSimple\" author=\"\"/>\\n  <ParameterDeclarations/>\\n  <CatalogLocations/>\\n  <RoadNetwork>\\n    <LogicFile filepath=\"Town04\"/>\\n    <SceneGraphFile filepath=\"\"/>\\n  </RoadNetwork>\\n  <Entities>\\n    <ScenarioObject name=\"hero\">\\n      <Vehicle name=\"vehicle.tesla.model3\" vehicleCategory=\"car\">\\n        <ParameterDeclarations/>\\n        <Performance maxSpeed=\"69.444\" maxAcceleration=\"200\" maxDeceleration=\"10.0\"/>\\n        <BoundingBox>\\n          <Center x=\"1.5\" y=\"0.0\" z=\"0.9\"/>\\n          <Dimensions width=\"2.1\" length=\"4.5\" height=\"1.8\"/>\\n        </BoundingBox>\\n        <Axles>\\n          <FrontAxle maxSteering=\"0.5\" wheelDiameter=\"0.6\" trackWidth=\"1.8\" positionX=\"3.1\" positionZ=\"0.3\"/>\\n          <RearAxle maxSteering=\"0.0\" wheelDiameter=\"0.6\" trackWidth=\"1.8\" positionX=\"0.0\" positionZ=\"0.3\"/>\\n        </Axles>\\n        <Properties>\\n          <Property name=\"type\" value=\"ego_vehicle\"/>\\n        </Properties>\\n      </Vehicle>\\n    </ScenarioObject>\\n    <ScenarioObject name=\"adversary\">\\n      <Vehicle name=\"vehicle.lincoln.mkz_2017\" vehicleCategory=\"car\">\\n        <ParameterDeclarations/>\\n        <Performance maxSpeed=\"69.444\" maxAcceleration=\"200\" maxDeceleration=\"10.0\"/>\\n        <BoundingBox>\\n          <Center x=\"1.5\" y=\"0.0\" z=\"0.9\"/>\\n          <Dimensions width=\"2.1\" length=\"4.5\" height=\"1.8\"/>\\n        </BoundingBox>\\n        <Axles>\\n          <FrontAxle maxSteering=\"0.5\" wheelDiameter=\"0.6\" trackWidth=\"1.8\" positionX=\"3.1\" positionZ=\"0.3\"/>\\n          <RearAxle maxSteering=\"0.0\" wheelDiameter=\"0.6\" trackWidth=\"1.8\" positionX=\"0.0\" positionZ=\"0.3\"/>\\n        </Axles>\\n        <Properties>\\n          <Property name=\"type\" value=\"simulation\"/>\\n        </Properties>\\n      </Vehicle>\\n    </ScenarioObject>\\n    <ScenarioObject name=\"standing\">\\n      <Vehicle name=\"vehicle.volkswagen.t2\" vehicleCategory=\"car\">\\n        <ParameterDeclarations/>\\n        <Performance maxSpeed=\"69.444\" maxAcceleration=\"200\" maxDeceleration=\"10.0\"/>\\n        <BoundingBox>\\n          <Center x=\"1.5\" y=\"0.0\" z=\"0.9\"/>\\n          <Dimensions width=\"2.1\" length=\"4.5\" height=\"1.8\"/>\\n        </BoundingBox>\\n        <Axles>\\n          <FrontAxle maxSteering=\"0.5\" wheelDiameter=\"0.6\" trackWidth=\"1.8\" positionX=\"3.1\" positionZ=\"0.3\"/>\\n          <RearAxle maxSteering=\"0.0\" wheelDiameter=\"0.6\" trackWidth=\"1.8\" positionX=\"0.0\" positionZ=\"0.3\"/>\\n        </Axles>\\n        <Properties>\\n          <Property name=\"type\" value=\"simulation\"/>\\n        </Properties>\\n      </Vehicle>\\n    </ScenarioObject>\\n    <ScenarioObject name=\"pedestrian_close_to_adversary_16535\">\\n      <Pedestrian model=\"walker.pedestrian.0001\" mass=\"80\" name=\"walker.pedestrian.0001\" pedestrianCategory=\"pedestrian\">\\n        <ParameterDeclarations/>\\n        <BoundingBox>\\n          <Center x=\"1.5\" y=\"0.0\" z=\"0.9\"/>\\n          <Dimensions width=\"2\" length=\"2\" height=\"2\"/>\\n        </BoundingBox>\\n        <Properties>\\n          <Property name=\"type\" value=\"simulation\"/>\\n        </Properties>\\n      </Pedestrian>\\n    </ScenarioObject>\\n    <ScenarioObject name=\"pedestrian_w_transform_16536\">\\n      <Pedestrian model=\"walker.pedestrian.0001\" mass=\"80\" name=\"walker.pedestrian.0001\" pedestrianCategory=\"pedestrian\">\\n        <ParameterDeclarations/>\\n        <BoundingBox>\\n          <Center x=\"1.5\" y=\"0.0\" z=\"0.9\"/>\\n          <Dimensions width=\"2\" length=\"2\" height=\"2\"/>\\n        </BoundingBox>\\n        <Properties>\\n          <Property name=\"type\" value=\"simulation\"/>\\n        </Properties>\\n      </Pedestrian>\\n    </ScenarioObject>\\n    <ScenarioObject name=\"pedestrian_close_to_hero_16539\">\\n      <Pedestrian model=\"walker.pedestrian.0001\" mass=\"80\" name=\"walker.pedestrian.0001\" pedestrianCategory=\"pedestrian\">\\n        <ParameterDeclarations/>\\n        <BoundingBox>\\n          <Center x=\"1.5\" y=\"0.0\" z=\"0.9\"/>\\n          <Dimensions width=\"2\" length=\"2\" height=\"2\"/>\\n        </BoundingBox>\\n        <Properties>\\n          <Property name=\"type\" value=\"simulation\"/>\\n        </Properties>\\n      </Pedestrian>\\n    </ScenarioObject>\\n    <ScenarioObject name=\"pedestrian_w_transform_16540\">\\n      <Pedestrian model=\"walker.pedestrian.0001\" mass=\"80\" name=\"walker.pedestrian.0001\" pedestrianCategory=\"pedestrian\">\\n        <ParameterDeclarations/>\\n        <BoundingBox>\\n          <Center x=\"1.5\" y=\"0.0\" z=\"0.9\"/>\\n          <Dimensions width=\"2\" length=\"2\" height=\"2\"/>\\n        </BoundingBox>\\n        <Properties>\\n          <Property name=\"type\" value=\"simulation\"/>\\n        </Properties>\\n      </Pedestrian>\\n    </ScenarioObject>\\n    <ScenarioObject name=\"pedestrian_close_to_standing_16541\">\\n      <Pedestrian model=\"walker.pedestrian.0001\" mass=\"80\" name=\"walker.pedestrian.0001\" pedestrianCategory=\"pedestrian\">\\n        <ParameterDeclarations/>\\n        <BoundingBox>\\n          <Center x=\"1.5\" y=\"0.0\" z=\"0.9\"/>\\n          <Dimensions width=\"2\" length=\"2\" height=\"2\"/>\\n        </BoundingBox>\\n        <Properties>\\n          <Property name=\"type\" value=\"simulation\"/>\\n        </Properties>\\n      </Pedestrian>\\n    </ScenarioObject>\\n    <ScenarioObject name=\"pedestrian_w_transform_16542\">\\n      <Pedestrian model=\"walker.pedestrian.0001\" mass=\"80\" name=\"walker.pedestrian.0001\" pedestrianCategory=\"pedestrian\">\\n        <ParameterDeclarations/>\\n        <BoundingBox>\\n          <Center x=\"1.5\" y=\"0.0\" z=\"0.9\"/>\\n          <Dimensions width=\"2\" length=\"2\" height=\"2\"/>\\n        </BoundingBox>\\n        <Properties>\\n          <Property name=\"type\" value=\"simulation\"/>\\n        </Properties>\\n      </Pedestrian>\\n    </ScenarioObject>\\n    <ScenarioObject name=\"pedestrian_w_transform_16543\">\\n      <Pedestrian model=\"walker.pedestrian.0001\" mass=\"80\" name=\"walker.pedestrian.0001\" pedestrianCategory=\"pedestrian\">\\n        <ParameterDeclarations/>\\n        <BoundingBox>\\n          <Center x=\"1.5\" y=\"0.0\" z=\"0.9\"/>\\n          <Dimensions width=\"2\" length=\"2\" height=\"2\"/>\\n        </BoundingBox>\\n        <Properties>\\n          <Property name=\"type\" value=\"simulation\"/>\\n        </Properties>\\n      </Pedestrian>\\n    </ScenarioObject>\\n    <ScenarioObject name=\"pedestrian_w_transform_16544\">\\n      <Pedestrian model=\"walker.pedestrian.0001\" mass=\"80\" name=\"walker.pedestrian.0001\" pedestrianCategory=\"pedestrian\">\\n        <ParameterDeclarations/>\\n        <BoundingBox>\\n          <Center x=\"1.5\" y=\"0.0\" z=\"0.9\"/>\\n          <Dimensions width=\"2\" length=\"2\" height=\"2\"/>\\n        </BoundingBox>\\n        <Properties>\\n          <Property name=\"type\" value=\"simulation\"/>\\n        </Properties>\\n      </Pedestrian>\\n    </ScenarioObject>\\n    <ScenarioObject name=\"pedestrian_w_transform_16545\">\\n      <Pedestrian model=\"walker.pedestrian.0001\" mass=\"80\" name=\"walker.pedestrian.0001\" pedestrianCategory=\"pedestrian\">\\n        <ParameterDeclarations/>\\n        <BoundingBox>\\n          <Center x=\"1.5\" y=\"0.0\" z=\"0.9\"/>\\n          <Dimensions width=\"2\" length=\"2\" height=\"2\"/>\\n        </BoundingBox>\\n        <Properties>\\n          <Property name=\"type\" value=\"simulation\"/>\\n        </Properties>\\n      </Pedestrian>\\n    </ScenarioObject>\\n    <ScenarioObject name=\"pedestrian_w_transform_16547\">\\n      <Pedestrian model=\"walker.pedestrian.0001\" mass=\"80\" name=\"walker.pedestrian.0001\" pedestrianCategory=\"pedestrian\">\\n        <ParameterDeclarations/>\\n        <BoundingBox>\\n          <Center x=\"1.5\" y=\"0.0\" z=\"0.9\"/>\\n          <Dimensions width=\"2\" length=\"2\" height=\"2\"/>\\n        </BoundingBox>\\n        <Properties>\\n          <Property name=\"type\" value=\"simulation\"/>\\n        </Properties>\\n      </Pedestrian>\\n    </ScenarioObject>\\n    <ScenarioObject name=\"pedestrian_close_to_standing_16548\">\\n      <Pedestrian model=\"walker.pedestrian.0001\" mass=\"80\" name=\"walker.pedestrian.0001\" pedestrianCategory=\"pedestrian\">\\n        <ParameterDeclarations/>\\n        <BoundingBox>\\n          <Center x=\"1.5\" y=\"0.0\" z=\"0.9\"/>\\n          <Dimensions width=\"2\" length=\"2\" height=\"2\"/>\\n        </BoundingBox>\\n        <Properties>\\n          <Property name=\"type\" value=\"simulation\"/>\\n        </Properties>\\n      </Pedestrian>\\n    </ScenarioObject>\\n    <ScenarioObject name=\"pedestrian_close_to_standing_16549\">\\n      <Pedestrian model=\"walker.pedestrian.0001\" mass=\"80\" name=\"walker.pedestrian.0001\" pedestrianCategory=\"pedestrian\">\\n        <ParameterDeclarations/>\\n        <BoundingBox>\\n          <Center x=\"1.5\" y=\"0.0\" z=\"0.9\"/>\\n          <Dimensions width=\"2\" length=\"2\" height=\"2\"/>\\n        </BoundingBox>\\n        <Properties>\\n          <Property name=\"type\" value=\"simulation\"/>\\n        </Properties>\\n      </Pedestrian>\\n    </ScenarioObject>\\n    <ScenarioObject name=\"pedestrian_close_to_adversary_16551\">\\n      <Pedestrian model=\"walker.pedestrian.0001\" mass=\"80\" name=\"walker.pedestrian.0001\" pedestrianCategory=\"pedestrian\">\\n        <ParameterDeclarations/>\\n        <BoundingBox>\\n          <Center x=\"1.5\" y=\"0.0\" z=\"0.9\"/>\\n          <Dimensions width=\"2\" length=\"2\" height=\"2\"/>\\n        </BoundingBox>\\n        <Properties>\\n          <Property name=\"type\" value=\"simulation\"/>\\n        </Properties>\\n      </Pedestrian>\\n    </ScenarioObject>\\n    <ScenarioObject name=\"pedestrian_close_to_adversary_16553\">\\n      <Pedestrian model=\"walker.pedestrian.0001\" mass=\"80\" name=\"walker.pedestrian.0001\" pedestrianCategory=\"pedestrian\">\\n        <ParameterDeclarations/>\\n        <BoundingBox>\\n          <Center x=\"1.5\" y=\"0.0\" z=\"0.9\"/>\\n          <Dimensions width=\"2\" length=\"2\" height=\"2\"/>\\n        </BoundingBox>\\n        <Properties>\\n          <Property name=\"type\" value=\"simulation\"/>\\n        </Properties>\\n      </Pedestrian>\\n    </ScenarioObject>\\n    <ScenarioObject name=\"pedestrian_w_transform_16554\">\\n      <Pedestrian model=\"walker.pedestrian.0001\" mass=\"80\" name=\"walker.pedestrian.0001\" pedestrianCategory=\"pedestrian\">\\n        <ParameterDeclarations/>\\n        <BoundingBox>\\n          <Center x=\"1.5\" y=\"0.0\" z=\"0.9\"/>\\n          <Dimensions width=\"2\" length=\"2\" height=\"2\"/>\\n        </BoundingBox>\\n        <Properties>\\n          <Property name=\"type\" value=\"simulation\"/>\\n        </Properties>\\n      </Pedestrian>\\n    </ScenarioObject>\\n    <ScenarioObject name=\"pedestrian_close_to_standing_16556\">\\n      <Pedestrian model=\"walker.pedestrian.0001\" mass=\"80\" name=\"walker.pedestrian.0001\" pedestrianCategory=\"pedestrian\">\\n        <ParameterDeclarations/>\\n        <BoundingBox>\\n          <Center x=\"1.5\" y=\"0.0\" z=\"0.9\"/>\\n          <Dimensions width=\"2\" length=\"2\" height=\"2\"/>\\n        </BoundingBox>\\n        <Properties>\\n          <Property name=\"type\" value=\"simulation\"/>\\n        </Properties>\\n      </Pedestrian>\\n    </ScenarioObject>\\n    <ScenarioObject name=\"pedestrian_close_to_standing_16559\">\\n      <Pedestrian model=\"walker.pedestrian.0001\" mass=\"80\" name=\"walker.pedestrian.0001\" pedestrianCategory=\"pedestrian\">\\n        <ParameterDeclarations/>\\n        <BoundingBox>\\n          <Center x=\"1.5\" y=\"0.0\" z=\"0.9\"/>\\n          <Dimensions width=\"2\" length=\"2\" height=\"2\"/>\\n        </BoundingBox>\\n        <Properties>\\n          <Property name=\"type\" value=\"simulation\"/>\\n        </Properties>\\n      </Pedestrian>\\n    </ScenarioObject>\\n    <ScenarioObject name=\"pedestrian_w_transform_16560\">\\n      <Pedestrian model=\"walker.pedestrian.0001\" mass=\"80\" name=\"walker.pedestrian.0001\" pedestrianCategory=\"pedestrian\">\\n        <ParameterDeclarations/>\\n        <BoundingBox>\\n          <Center x=\"1.5\" y=\"0.0\" z=\"0.9\"/>\\n          <Dimensions width=\"2\" length=\"2\" height=\"2\"/>\\n        </BoundingBox>\\n        <Properties>\\n          <Property name=\"type\" value=\"simulation\"/>\\n        </Properties>\\n      </Pedestrian>\\n    </ScenarioObject>\\n  </Entities>\\n  <Storyboard>\\n    <Init>\\n      <Actions>\\n        <GlobalAction>\\n          <EnvironmentAction>\\n            <Environment name=\"Environment1\">\\n              <TimeOfDay animation=\"false\" dateTime=\"2019-06-25T12:00:00\"/>\\n              <Weather cloudState=\"free\">\\n                <Sun intensity=\"0.85\" azimuth=\"0\" elevation=\"1.31\"/>\\n                <Fog visualRange=\"100000.0\"/>\\n                <Precipitation precipitationType=\"dry\" intensity=\"0.0\"/>\\n              </Weather>\\n              <RoadCondition frictionScaleFactor=\"1.0\"/>\\n            </Environment>\\n          </EnvironmentAction>\\n        </GlobalAction>\\n        <Private entityRef=\"hero\">\\n          <PrivateAction>\\n            <TeleportAction>\\n              <Position>\\n                <WorldPosition x=\"-9.4\" y=\"-152.8\" z=\"0.5\" h=\"1.57079632679\"/>\\n              </Position>\\n            </TeleportAction>\\n          </PrivateAction>\\n          <PrivateAction>\\n            <ControllerAction>\\n              <AssignControllerAction>\\n                <Controller name=\"HeroAgent\">\\n                  <Properties>\\n                    <Property name=\"module\" value=\"external_control\"/>\\n                  </Properties>\\n                </Controller>\\n              </AssignControllerAction>\\n              <OverrideControllerValueAction>\\n                <Throttle value=\"0\" active=\"false\"/>\\n                <Brake value=\"0\" active=\"false\"/>\\n                <Clutch value=\"0\" active=\"false\"/>\\n                <ParkingBrake value=\"0\" active=\"false\"/>\\n                <SteeringWheel value=\"0\" active=\"false\"/>\\n                <Gear number=\"0\" active=\"false\"/>\\n              </OverrideControllerValueAction>\\n            </ControllerAction>\\n          </PrivateAction>\\n        </Private>\\n        <Private entityRef=\"adversary\">\\n          <PrivateAction>\\n            <TeleportAction>\\n              <Position>\\n                <WorldPosition x=\"-9.4\" y=\"-71.0\" z=\"0.5\" h=\"1.57079632679\"/>\\n              </Position>\\n            </TeleportAction>\\n          </PrivateAction>\\n        </Private>\\n        <Private entityRef=\"standing\">\\n          <PrivateAction>\\n            <TeleportAction>\\n              <Position>\\n                <WorldPosition x=\"-8.2\" y=\"29.2\" z=\"0.5\" h=\"1.57079632679\"/>\\n              </Position>\\n            </TeleportAction>\\n          </PrivateAction>\\n        </Private>\\n        <Private entityRef=\"pedestrian_close_to_adversary_16535\">\\n          <PrivateAction>\\n            <TeleportAction>\\n              <Position>\\n                <WorldPosition x=\"-18.714889526367188\" y=\"-77.70113372802734\" z=\"0.03377166762948036\"/>\\n              </Position>\\n            </TeleportAction>\\n          </PrivateAction>\\n        </Private>\\n        <Private entityRef=\"pedestrian_w_transform_16536\">\\n          <PrivateAction>\\n            <TeleportAction>\\n              <Position>\\n                <WorldPosition x=\"-34.99029541015625\" y=\"58.320457458496094\" z=\"0.5\"/>\\n              </Position>\\n            </TeleportAction>\\n          </PrivateAction>\\n        </Private>\\n        <Private entityRef=\"pedestrian_close_to_hero_16539\">\\n          <PrivateAction>\\n            <TeleportAction>\\n              <Position>\\n                <WorldPosition x=\"-11.79184341430664\" y=\"-159.4665985107422\" z=\"0.0013734435196965933\"/>\\n              </Position>\\n            </TeleportAction>\\n          </PrivateAction>\\n        </Private>\\n        <Private entityRef=\"pedestrian_w_transform_16540\">\\n          <PrivateAction>\\n            <TeleportAction>\\n              <Position>\\n                <WorldPosition x=\"-95.40179443359375\" y=\"77.87493133544922\" z=\"0.5\"/>\\n              </Position>\\n            </TeleportAction>\\n          </PrivateAction>\\n        </Private>\\n        <Private entityRef=\"pedestrian_close_to_standing_16541\">\\n          <PrivateAction>\\n            <TeleportAction>\\n              <Position>\\n                <WorldPosition x=\"-6.486691951751709\" y=\"28.453325271606445\" z=\"0.0030169677920639515\"/>\\n              </Position>\\n            </TeleportAction>\\n          </PrivateAction>\\n        </Private>\\n        <Private entityRef=\"pedestrian_w_transform_16542\">\\n          <PrivateAction>\\n            <TeleportAction>\\n              <Position>\\n                <WorldPosition x=\"57.99752426147461\" y=\"1.3591190576553345\" z=\"0.5\"/>\\n              </Position>\\n            </TeleportAction>\\n          </PrivateAction>\\n        </Private>\\n        <Private entityRef=\"pedestrian_w_transform_16543\">\\n          <PrivateAction>\\n            <TeleportAction>\\n              <Position>\\n                <WorldPosition x=\"-45.887943267822266\" y=\"1.1243621110916138\" z=\"0.5\"/>\\n              </Position>\\n            </TeleportAction>\\n          </PrivateAction>\\n        </Private>\\n        <Private entityRef=\"pedestrian_w_transform_16544\">\\n          <PrivateAction>\\n            <TeleportAction>\\n              <Position>\\n                <WorldPosition x=\"96.38334655761719\" y=\"42.78038024902344\" z=\"0.5\"/>\\n              </Position>\\n            </TeleportAction>\\n          </PrivateAction>\\n        </Private>\\n        <Private entityRef=\"pedestrian_w_transform_16545\">\\n          <PrivateAction>\\n            <TeleportAction>\\n              <Position>\\n                <WorldPosition x=\"-36.15153503417969\" y=\"59.096099853515625\" z=\"0.5\"/>\\n              </Position>\\n            </TeleportAction>\\n          </PrivateAction>\\n        </Private>\\n        <Private entityRef=\"pedestrian_w_transform_16547\">\\n          <PrivateAction>\\n            <TeleportAction>\\n              <Position>\\n                <WorldPosition x=\"-57.27651596069336\" y=\"-22.17013168334961\" z=\"0.5\"/>\\n              </Position>\\n            </TeleportAction>\\n          </PrivateAction>\\n        </Private>\\n        <Private entityRef=\"pedestrian_close_to_standing_16548\">\\n          <PrivateAction>\\n            <TeleportAction>\\n              <Position>\\n                <WorldPosition x=\"-3.3248982429504395\" y=\"6.7173991203308105\" z=\"0.003027763217687607\"/>\\n              </Position>\\n            </TeleportAction>\\n          </PrivateAction>\\n        </Private>\\n        <Private entityRef=\"pedestrian_close_to_standing_16549\">\\n          <PrivateAction>\\n            <TeleportAction>\\n              <Position>\\n                <WorldPosition x=\"-17.726993560791016\" y=\"21.104719161987305\" z=\"0.0030171202961355448\"/>\\n              </Position>\\n            </TeleportAction>\\n          </PrivateAction>\\n        </Private>\\n        <Private entityRef=\"pedestrian_close_to_adversary_16551\">\\n          <PrivateAction>\\n            <TeleportAction>\\n              <Position>\\n                <WorldPosition x=\"-2.5293822288513184\" y=\"-70.96820831298828\" z=\"0.03376232087612152\"/>\\n              </Position>\\n            </TeleportAction>\\n          </PrivateAction>\\n        </Private>\\n        <Private entityRef=\"pedestrian_close_to_adversary_16553\">\\n          <PrivateAction>\\n            <TeleportAction>\\n              <Position>\\n                <WorldPosition x=\"-1.4799100160598755\" y=\"-74.88185119628906\" z=\"0.03375793248414993\"/>\\n              </Position>\\n            </TeleportAction>\\n          </PrivateAction>\\n        </Private>\\n        <Private entityRef=\"pedestrian_w_transform_16554\">\\n          <PrivateAction>\\n            <TeleportAction>\\n              <Position>\\n                <WorldPosition x=\"-25.356555938720703\" y=\"-16.28318214416504\" z=\"0.5\"/>\\n              </Position>\\n            </TeleportAction>\\n          </PrivateAction>\\n        </Private>\\n        <Private entityRef=\"pedestrian_close_to_standing_16556\">\\n          <PrivateAction>\\n            <TeleportAction>\\n              <Position>\\n                <WorldPosition x=\"-11.27512264251709\" y=\"19.2094669342041\" z=\"0.0030182646587491035\"/>\\n              </Position>\\n            </TeleportAction>\\n          </PrivateAction>\\n        </Private>\\n        <Private entityRef=\"pedestrian_close_to_standing_16559\">\\n          <PrivateAction>\\n            <TeleportAction>\\n              <Position>\\n                <WorldPosition x=\"-16.490455627441406\" y=\"20.9063777923584\" z=\"0.003026237478479743\"/>\\n              </Position>\\n            </TeleportAction>\\n          </PrivateAction>\\n        </Private>\\n        <Private entityRef=\"pedestrian_w_transform_16560\">\\n          <PrivateAction>\\n            <TeleportAction>\\n              <Position>\\n                <WorldPosition x=\"45.77383804321289\" y=\"88.3878173828125\" z=\"0.5\"/>\\n              </Position>\\n            </TeleportAction>\\n          </PrivateAction>\\n        </Private>\\n      </Actions>\\n    </Init>\\n    <Story name=\"MyStory\">\\n      <Act name=\"Behavior\">\\n        <ManeuverGroup maximumExecutionCount=\"1\" name=\"ManeuverSequence\">\\n          <Actors selectTriggeringEntities=\"false\">\\n            <EntityRef entityRef=\"adversary\"/>\\n          </Actors>\\n          <Maneuver name=\"LaneChangeSimpleManeuver\">\\n            <Event name=\"AdversaryAccelerates\" priority=\"overwrite\">\\n              <Action name=\"AdversaryAccelerates\">\\n                <PrivateAction>\\n                  <LongitudinalAction>\\n                    <SpeedAction>\\n                      <SpeedActionDynamics dynamicsShape=\"step\" value=\"50\" dynamicsDimension=\"distance\"/>\\n                      <SpeedActionTarget>\\n                        <AbsoluteTargetSpeed value=\"5.0\"/>\\n                      </SpeedActionTarget>\\n                    </SpeedAction>\\n                  </LongitudinalAction>\\n                </PrivateAction>\\n              </Action>\\n              <StartTrigger>\\n                <ConditionGroup>\\n                  <Condition name=\"StartCondition\" delay=\"0\" conditionEdge=\"rising\">\\n                    <ByEntityCondition>\\n                      <TriggeringEntities triggeringEntitiesRule=\"any\">\\n                        <EntityRef entityRef=\"hero\"/>\\n                      </TriggeringEntities>\\n                      <EntityCondition>\\n                        <RelativeDistanceCondition entityRef=\"adversary\" relativeDistanceType=\"cartesianDistance\" value=\"40.0\" freespace=\"false\" rule=\"lessThan\"/>\\n                      </EntityCondition>\\n                    </ByEntityCondition>\\n                  </Condition>\\n                </ConditionGroup>\\n              </StartTrigger>\\n            </Event>\\n            <Event name=\"AdversaryChangesLane\" priority=\"overwrite\">\\n              <Action name=\"AdversaryChangesLane\">\\n                <PrivateAction>\\n                  <LateralAction>\\n                    <LaneChangeAction>\\n                      <LaneChangeActionDynamics dynamicsShape=\"linear\" value=\"25\" dynamicsDimension=\"distance\"/>\\n                      <LaneChangeTarget>\\n                        <RelativeTargetLane entityRef=\"adversary\" value=\"-1\"/>\\n                      </LaneChangeTarget>\\n                    </LaneChangeAction>\\n                  </LateralAction>\\n                </PrivateAction>\\n              </Action>\\n              <StartTrigger>\\n                <ConditionGroup>\\n                  <Condition name=\"AfterAdversaryAccelerates\" delay=\"0\" conditionEdge=\"rising\">\\n                    <ByValueCondition>\\n                      <StoryboardElementStateCondition storyboardElementType=\"action\" storyboardElementRef=\"AdversaryAccelerates\" state=\"completeState\"/>\\n                    </ByValueCondition>\\n                  </Condition>\\n                </ConditionGroup>\\n              </StartTrigger>\\n            </Event>\\n          </Maneuver>\\n        </ManeuverGroup>\\n        <StartTrigger>\\n          <ConditionGroup>\\n            <Condition name=\"OverallStartCondition\" delay=\"0\" conditionEdge=\"rising\">\\n              <ByEntityCondition>\\n                <TriggeringEntities triggeringEntitiesRule=\"any\">\\n                  <EntityRef entityRef=\"hero\"/>\\n                </TriggeringEntities>\\n                <EntityCondition>\\n                  <TraveledDistanceCondition value=\"1.0\"/>\\n                </EntityCondition>\\n              </ByEntityCondition>\\n            </Condition>\\n            <Condition name=\"StartTime\" delay=\"0\" conditionEdge=\"rising\">\\n              <ByValueCondition>\\n                <SimulationTimeCondition value=\"0\" rule=\"equalTo\"/>\\n              </ByValueCondition>\\n            </Condition>\\n          </ConditionGroup>\\n        </StartTrigger>\\n        <StopTrigger>\\n          <ConditionGroup>\\n            <Condition name=\"EndCondition\" delay=\"0\" conditionEdge=\"rising\">\\n              <ByEntityCondition>\\n                <TriggeringEntities triggeringEntitiesRule=\"any\">\\n                  <EntityRef entityRef=\"hero\"/>\\n                </TriggeringEntities>\\n                <EntityCondition>\\n                  <TraveledDistanceCondition value=\"200.0\"/>\\n                </EntityCondition>\\n              </ByEntityCondition>\\n            </Condition>\\n          </ConditionGroup>\\n        </StopTrigger>\\n      </Act>\\n    </Story>\\n    <StopTrigger>\\n      <ConditionGroup>\\n        <Condition name=\"criteria_RunningStopTest\" delay=\"0\" conditionEdge=\"rising\">\\n          <ByValueCondition>\\n            <ParameterCondition parameterRef=\"\" value=\"\" rule=\"lessThan\"/>\\n          </ByValueCondition>\\n        </Condition>\\n        <Condition name=\"criteria_RunningRedLightTest\" delay=\"0\" conditionEdge=\"rising\">\\n          <ByValueCondition>\\n            <ParameterCondition parameterRef=\"\" value=\"\" rule=\"lessThan\"/>\\n          </ByValueCondition>\\n        </Condition>\\n        <Condition name=\"criteria_WrongLaneTest\" delay=\"0\" conditionEdge=\"rising\">\\n          <ByValueCondition>\\n            <ParameterCondition parameterRef=\"\" value=\"\" rule=\"lessThan\"/>\\n          </ByValueCondition>\\n        </Condition>\\n        <Condition name=\"criteria_OnSidewalkTest\" delay=\"0\" conditionEdge=\"rising\">\\n          <ByValueCondition>\\n            <ParameterCondition parameterRef=\"\" value=\"\" rule=\"lessThan\"/>\\n          </ByValueCondition>\\n        </Condition>\\n        <Condition name=\"criteria_KeepLaneTest\" delay=\"0\" conditionEdge=\"rising\">\\n          <ByValueCondition>\\n            <ParameterCondition parameterRef=\"\" value=\"\" rule=\"lessThan\"/>\\n          </ByValueCondition>\\n        </Condition>\\n        <Condition name=\"criteria_CollisionTest\" delay=\"0\" conditionEdge=\"rising\">\\n          <ByValueCondition>\\n            <ParameterCondition parameterRef=\"\" value=\"\" rule=\"lessThan\"/>\\n          </ByValueCondition>\\n        </Condition>\\n        <Condition name=\"criteria_DrivenDistanceTest\" delay=\"0\" conditionEdge=\"rising\">\\n          <ByValueCondition>\\n            <ParameterCondition parameterRef=\"distance_success\" value=\"100\" rule=\"lessThan\"/>\\n          </ByValueCondition>\\n        </Condition>\\n      </ConditionGroup>\\n    </StopTrigger>\\n  </Storyboard>\\n</OpenSCENARIO>\\n```',\n",
       " 'response': 'Here is the result:\\n```\\n<?xml version=\"1.0\" ?>\\n<OpenSCENARIO>\\n  <FileHeader revMajor=\"1\" revMinor=\"0\" date=\"2020-03-24T12:00:00\" description=\"CARLA:LaneChangeSimple\" author=\"\"/>\\n  <ParameterDeclarations/>\\n  <CatalogLocations/>\\n  <RoadNetwork>\\n    <LogicFile filepath=\"Town04\"/>\\n    <SceneGraphFile filepath=\"\"/>\\n  </RoadNetwork>\\n  <Entities>\\n    <ScenarioObject name=\"hero\">\\n      <Vehicle name=\"vehicle.tesla.model3\" vehicleCategory=\"car\">\\n        <ParameterDeclarations/>\\n        <Performance maxSpeed=\"69.444\" maxAcceleration=\"200\" maxDeceleration=\"10.0\"/>\\n        <BoundingBox>\\n          <Center x=\"1.5\" y=\"0.0\" z=\"0.9\"/>\\n          <Dimensions width=\"2.1\" length=\"4.5\" height=\"1.8\"/>\\n        </BoundingBox>\\n        <Axles>\\n          <FrontAxle maxSteering=\"0.5\" wheelDiameter=\"0.6\" trackWidth=\"1.8\" positionX=\"3.1\" positionZ=\"0.3\"/>\\n          <RearAxle maxSteering=\"0.0\" wheelDiameter=\"0.6\" trackWidth=\"1.8\" positionX=\"0.0\" positionZ=\"0.3\"/>\\n        </Axles>\\n        <Properties>\\n          <Property name=\"type\" value=\"ego_vehicle\"/>\\n        </Properties>\\n      </Vehicle>\\n    </ScenarioObject>\\n    <ScenarioObject name=\"adversary\">\\n      <Vehicle name=\"vehicle.lincoln.mkz_2017\" vehicleCategory=\"car\">\\n        <ParameterDeclarations/>\\n        <Performance maxSpeed=\"69.444\" maxAcceleration=\"200\" maxDeceleration=\"10.0\"/>\\n        <BoundingBox>\\n          <Center x=\"1.5\" y=\"0.0\" z=\"0.9\"/>\\n          <Dimensions width=\"2.1\" length=\"4.5\" height=\"1.8\"/>\\n        </BoundingBox>\\n        <Axles>\\n          <FrontAxle maxSteering=\"0.5\" wheelDiameter=\"0.6\" trackWidth=\"1.8\" positionX=\"3.1\" positionZ=\"0.3\"/>\\n          <RearAxle maxSteering=\"0.0\" wheelDiameter=\"0.6\" trackWidth=\"1.8\" positionX=\"0.0\" positionZ=\"0.3\"/>\\n        </Axles>\\n        <Properties>\\n          <Property name=\"type\" value=\"simulation\"/>\\n        </Properties>\\n      </Vehicle>\\n    </ScenarioObject>\\n    <ScenarioObject name=\"standing\">\\n      <Vehicle name=\"vehicle.volkswagen.t2\" vehicleCategory=\"car\">\\n        <ParameterDeclarations/>\\n        <Performance maxSpeed=\"69.444\" maxAcceleration=\"200\" maxDeceleration=\"10.0\"/>\\n        <BoundingBox>\\n          <Center x=\"1.5\" y=\"0.0\" z=\"0.9\"/>\\n          <Dimensions width=\"2.1\" length=\"4.5\" height=\"1.8\"/>\\n        </BoundingBox>\\n        <Axles>\\n          <FrontAxle maxSteering=\"0.5\" wheelDiameter=\"0.6\" trackWidth=\"1.8\" positionX=\"3.1\" positionZ=\"0.3\"/>\\n          <RearAxle maxSteering=\"0.0\" wheelDiameter=\"0.6\" trackWidth=\"1.8\" positionX=\"0.0\" positionZ=\"0.3\"/>\\n        </Axles>\\n        <Properties>\\n          <Property name=\"type\" value=\"simulation\"/>\\n        </Properties>\\n      </Vehicle>\\n    </ScenarioObject>\\n    <ScenarioObject name=\"pedestrian_close_to_adversary_16535\">\\n      <Pedestrian model=\"walker.pedestrian.0001\" mass=\"80\" name=\"walker.pedestrian.0001\" pedestrianCategory=\"pedestrian\">\\n        <ParameterDeclarations/>\\n        <BoundingBox>\\n          <Center x=\"1.5\" y=\"0.0\" z=\"0.9\"/>\\n          <Dimensions width=\"2\" length=\"2\" height=\"2\"/>\\n        </BoundingBox>\\n        <Properties>\\n          <Property name=\"type\" value=\"simulation\"/>\\n        </Properties>\\n      </Pedestrian>\\n    </ScenarioObject>\\n    <ScenarioObject name=\"pedestrian_w_transform_16536\">\\n      <Pedestrian model=\"walker.pedestrian.0001\" mass=\"80\" name=\"walker.pedestrian.0001\" pedestrianCategory=\"pedestrian\">\\n        <ParameterDeclarations/>\\n        <BoundingBox>\\n          <Center x=\"1.5\" y=\"0.0\" z=\"0.9\"/>\\n          <Dimensions width=\"2\" length=\"2\" height=\"2\"/>\\n        </BoundingBox>\\n        <Properties>\\n          <Property name=\"type\" value=\"simulation\"/>\\n        </Properties>\\n      </Pedestrian>\\n    </ScenarioObject>\\n    <ScenarioObject name=\"pedestrian_close_to_hero_16539\">\\n      <Pedestrian model=\"walker.pedestrian.0001\" mass=\"80\" name=\"walker.pedestrian.0001\" pedestrianCategory=\"pedestrian\">\\n        <ParameterDeclarations/>\\n        <BoundingBox>\\n          <Center x=\"1.5\" y=\"0.0\" z=\"0.9\"/>\\n          <Dimensions width=\"2\" length=\"2\" height=\"2\"/>\\n        </BoundingBox>\\n        <Properties>\\n          <Property name=\"type\" value=\"simulation\"/>\\n        </Properties>\\n      </Pedestrian>\\n    </ScenarioObject>\\n    <ScenarioObject name=\"pedestrian_w_transform_16540\">\\n      <Pedestrian model=\"walker.pedestrian.0001\" mass=\"80\" name=\"walker.pedestrian.0001\" pedestrianCategory=\"pedestrian\">\\n        <ParameterDeclarations/>\\n        <BoundingBox>\\n          <Center x=\"1.5\" y=\"0.0\" z=\"0.9\"/>\\n          <Dimensions width=\"2\" length=\"2\" height=\"2\"/>\\n        </BoundingBox>\\n        <Properties>\\n          <Property name=\"type\" value=\"simulation\"/>\\n        </Properties>\\n      </Pedestrian>\\n    </ScenarioObject>\\n    <ScenarioObject name=\"pedestrian_close_to_standing_16541\">\\n      <Pedestrian model=\"walker.pedestrian.0001\" mass=\"80\" name=\"walker.pedestrian.0001\" pedestrianCategory=\"pedestrian\">\\n        <ParameterDeclarations/>\\n        <BoundingBox>\\n          <Center x=\"1.5\" y=\"0.0\" z=\"0.9\"/>\\n          <Dimensions width=\"2\" length=\"2\" height=\"2\"/>\\n        </BoundingBox>\\n        <Properties>\\n          <Property name=\"type\" value=\"simulation\"/>\\n        </Properties>\\n      </Pedestrian>\\n    </ScenarioObject>\\n    <ScenarioObject name=\"pedestrian_w_transform_16542\">\\n      <Pedestrian model=\"walker.pedestrian.0001\" mass=\"80\" name=\"walker.pedestrian.0001\" pedestrianCategory=\"pedestrian\">\\n        <ParameterDeclarations/>\\n        <BoundingBox>\\n          <Center x=\"1.5\" y=\"0.0\" z=\"0.9\"/>\\n          <Dimensions width=\"2\" length=\"2\" height=\"2\"/>\\n        </BoundingBox>\\n        <Properties>\\n          <Property name=\"type\" value=\"simulation\"/>\\n        </Properties>\\n      </Pedestrian>\\n    </ScenarioObject>\\n    <ScenarioObject name=\"pedestrian_w_transform_16543\">\\n      <Pedestrian model=\"walker.pedestrian.0001\" mass=\"80\" name=\"walker.pedestrian.0001\" pedestrianCategory=\"pedestrian\">\\n        <ParameterDeclarations/>\\n        <BoundingBox>\\n          <Center x=\"1.5\" y=\"0.0\" z=\"0.9\"/>\\n          <Dimensions width=\"2\" length=\"2\" height=\"2\"/>\\n        </BoundingBox>\\n        <Properties>\\n          <Property name=\"type\" value=\"simulation\"/>\\n        </Properties>\\n      </Pedestrian>\\n    </ScenarioObject>\\n    <ScenarioObject name=\"pedestrian_w_transform_16544\">\\n      <Pedestrian model=\"walker.pedestrian.0001\" mass=\"80\" name=\"walker.pedestrian.0001\" pedestrianCategory=\"pedestrian\">\\n        <ParameterDeclarations/>\\n        <BoundingBox>\\n          <Center x=\"1.5\" y=\"0.0\" z=\"0.9\"/>\\n          <Dimensions width=\"2\" length=\"2\" height=\"2\"/>\\n        </BoundingBox>\\n        <Properties>\\n          <Property name=\"type\" value=\"simulation\"/>\\n        </Properties>\\n      </Pedestrian>\\n    </ScenarioObject>\\n    <ScenarioObject name=\"pedestrian_w_transform_16545\">\\n      <Pedestrian model=\"walker.pedestrian.0001\" mass=\"80\" name=\"walker.pedestrian.0001\" pedestrianCategory=\"pedestrian\">\\n        <ParameterDeclarations/>\\n        <BoundingBox>\\n          <Center x=\"1.5\" y=\"0.0\" z=\"0.9\"/>\\n          <Dimensions width=\"2\" length=\"2\" height=\"2\"/>\\n        </BoundingBox>\\n        <Properties>\\n          <Property name=\"type\" value=\"simulation\"/>\\n        </Properties>\\n      </Pedestrian>\\n    </ScenarioObject>\\n    <ScenarioObject name=\"pedestrian_w_transform_16547\">\\n      <Pedestrian model=\"walker.pedestrian.0001\" mass=\"80\" name=\"walker.pedestrian.0001\" pedestrianCategory=\"pedestrian\">\\n        <ParameterDeclarations/>\\n        <BoundingBox>\\n          <Center x=\"1.5\" y=\"0.0\" z=\"0.9\"/>\\n          <Dimensions width=\"2\" length=\"2\" height=\"2\"/>\\n        </BoundingBox>\\n        <Properties>\\n          <Property name=\"type\" value=\"simulation\"/>\\n        </Properties>\\n      </Pedestrian>\\n    </ScenarioObject>\\n    <ScenarioObject name=\"pedestrian_close_to_standing_16549\">\\n      <Pedestrian model=\"walker.pedestrian.0001\" mass=\"80\" name=\"walker.pedestrian.0001\" pedestrianCategory=\"pedestrian\">\\n        <ParameterDeclarations/>\\n        <BoundingBox>\\n          <Center x=\"1.5\" y=\"0.0\" z=\"0.9\"/>\\n          <Dimensions width=\"2\" length=\"2\" height=\"2\"/>\\n        </BoundingBox>\\n        <Properties>\\n          <Property name=\"type\" value=\"simulation\"/>\\n        </Properties>\\n      </Pedestrian>\\n    </ScenarioObject>\\n    <ScenarioObject name=\"pedestrian_close_to_adversary_16551\">\\n      <Pedestrian model=\"walker.pedestrian.0001\" mass=\"80\" name=\"walker.pedestrian.0001\" pedestrianCategory=\"pedestrian\">\\n        <ParameterDeclarations/>\\n        <BoundingBox>\\n          <Center x=\"1.5\" y=\"0.0\" z=\"0.9\"/>\\n          <Dimensions width=\"2\" length=\"2\" height=\"2\"/>\\n        </BoundingBox>\\n        <Properties>\\n          <Property name=\"type\" value=\"simulation\"/>\\n        </Properties>\\n      </Pedestrian>\\n    </ScenarioObject>\\n    <ScenarioObject name=\"pedestrian_close_to_adversary_16553\">\\n      <Pedestrian model=\"walker.pedestrian.0001\" mass=\"80\" name=\"walker.pedestrian.0001\" pedestrianCategory=\"pedestrian\">\\n        <ParameterDeclarations/>\\n        <BoundingBox>\\n          <Center x=\"1.5\" y=\"0.0\" z=\"0.9\"/>\\n          <Dimensions width=\"2\" length=\"2\" height=\"2\"/>\\n        </BoundingBox>\\n        <Properties>\\n          <Property name=\"type\" value=\"simulation\"/>\\n        </Properties>\\n      </Pedestrian>\\n    </ScenarioObject>\\n    <ScenarioObject name=\"pedestrian_w_transform_16554\">\\n      <Pedestrian model=\"walker.pedestrian.0001\" mass=\"80\" name=\"walker.pedestrian.0001\" pedestrianCategory=\"pedestrian\">\\n        <ParameterDeclarations/>\\n        <BoundingBox>\\n          <Center x=\"1.5\" y=\"0.0\" z=\"0.9\"/>\\n          <Dimensions width=\"2\" length=\"2\" height=\"2\"/>\\n        </BoundingBox>\\n        <Properties>\\n          <Property name=\"type\" value=\"simulation\"/>\\n        </Properties>\\n      </Pedestrian>\\n    </ScenarioObject>\\n    <ScenarioObject name=\"pedestrian_close_to_standing_16556\">\\n      <Pedestrian model=\"walker.pedestrian.0001\" mass=\"80\" name=\"walker.pedestrian.0001\" pedestrianCategory=\"pedestrian\">\\n        <ParameterDeclarations/>\\n        <BoundingBox>\\n          <Center x=\"1.5\" y=\"0.0\" z=\"0.9\"/>\\n          <Dimensions width=\"2\" length=\"2\" height=\"2\"/>\\n        </BoundingBox>\\n        <Properties>\\n          <Property name=\"type\" value=\"simulation\"/>\\n        </Properties>\\n      </Pedestrian>\\n    </ScenarioObject>\\n    <ScenarioObject name=\"pedestrian_close_to_standing_16559\">\\n      <Pedestrian model=\"walker.pedestrian.0001\" mass=\"80\" name=\"walker.pedestrian.0001\" pedestrianCategory=\"pedestrian\">\\n        <ParameterDeclarations/>\\n        <BoundingBox>\\n          <Center x=\"1.5\" y=\"0.0\" z=\"0.9\"/>\\n          <Dimensions width=\"2\" length=\"2\" height=\"2\"/>\\n        </BoundingBox>\\n        <Properties>\\n          <Property name=\"type\" value=\"simulation\"/>\\n        </Properties>\\n      </Pedestrian>\\n    </ScenarioObject>\\n    <ScenarioObject name=\"pedestrian_w_transform_16560\">\\n      <Pedestrian model=\"walker.pedestrian.0001\" mass=\"80\" name=\"walker.pedestrian.0001\" pedestrianCategory=\"pedestrian\">\\n        <ParameterDeclarations/>\\n        <BoundingBox>\\n          <Center x=\"1.5\" y=\"0.0\" z=\"0.9\"/>\\n          <Dimensions width=\"2\" length=\"2\" height=\"2\"/>\\n        </BoundingBox>\\n        <Properties>\\n          <Property name=\"type\" value=\"simulation\"/>\\n        </Properties>\\n      </Pedestrian>\\n    </ScenarioObject>\\n  </Entities>\\n  <Storyboard>\\n    <Init>\\n      <Actions>\\n        <GlobalAction>\\n          <EnvironmentAction>\\n            <Environment name=\"Environment1\">\\n              <TimeOfDay animation=\"false\" dateTime=\"2019-06-25T12:00:00\"/>\\n              <Weather cloudState=\"free\">\\n                <Sun intensity=\"0.85\" azimuth=\"0\" elevation=\"1.31\"/>\\n                <Fog visualRange=\"100000.0\"/>\\n                <Precipitation precipitationType=\"dry\" intensity=\"0.0\"/>\\n              </Weather>\\n              <RoadCondition frictionScaleFactor=\"1.0\"/>\\n            </Environment>\\n          </EnvironmentAction>\\n        </GlobalAction>\\n        <Private entityRef=\"hero\">\\n          <PrivateAction>\\n            <TeleportAction>\\n              <Position>\\n                <WorldPosition x=\"-9.4\" y=\"-152.8\" z=\"0.5\" h=\"1.57079632679\"/>\\n              </Position>\\n            </TeleportAction>\\n          </PrivateAction>\\n          <PrivateAction>\\n            <ControllerAction>\\n              <AssignControllerAction>\\n                <Controller name=\"HeroAgent\">\\n                  <Properties>\\n                    <Property name=\"module\" value=\"external_control\"/>\\n                  </Properties>\\n                </Controller>\\n              </AssignControllerAction>\\n              <OverrideControllerValueAction>\\n                <Throttle value=\"0\" active=\"false\"/>\\n                <Brake value=\"0\" active=\"false\"/>\\n                <Clutch value=\"0\" active=\"false\"/>\\n                <ParkingBrake value=\"0\" active=\"false\"/>\\n                <SteeringWheel value=\"0\" active=\"false\"/>\\n                <Gear number=\"0\" active=\"false\"/>\\n              </OverrideControllerValueAction>\\n            </ControllerAction>\\n          </PrivateAction>\\n        </Private>\\n        <Private entityRef=\"adversary\">\\n          <PrivateAction>\\n            <TeleportAction>\\n              <Position>\\n                <WorldPosition x=\"-9.4\" y=\"-71.0\" z=\"0.5\" h=\"1.57079632679\"/>\\n              </Position>\\n            </TeleportAction>\\n          </PrivateAction>\\n        </Private>\\n        <Private entityRef=\"standing\">\\n          <PrivateAction>\\n            <TeleportAction>\\n              <Position>\\n                <WorldPosition x=\"-8.2\" y=\"29.2\" z=\"0.5\" h=\"1.57079632679\"/>\\n              </Position>\\n            </TeleportAction>\\n          </PrivateAction>\\n        </Private>\\n        <Private entityRef=\"pedestrian_close_to_adversary_16535\">\\n          <PrivateAction>\\n            <TeleportAction>\\n              <Position>\\n                <WorldPosition x=\"-18.714889526367188\" y=\"-77.70113372802734\" z=\"0.03377166762948036\"/>\\n              </Position>\\n            </TeleportAction>\\n          </PrivateAction>\\n        </Private>\\n        <Private entityRef=\"pedestrian_w_transform_16536\">\\n          <PrivateAction>\\n            <TeleportAction>\\n              <Position>\\n                <WorldPosition x=\"-34.99029541015625\" y=\"58.320457458496094\" z=\"0.5\"/>\\n              </Position>\\n            </TeleportAction>\\n          </PrivateAction>\\n        </Private>\\n        <Private entityRef=\"pedestrian_close_to_hero_16539\">\\n          <PrivateAction>\\n            <TeleportAction>\\n              <Position>\\n                <WorldPosition x=\"-11.79184341430664\" y=\"-159.4665985107422\" z=\"0.0013734435196965933\"/>\\n              </Position>\\n            </TeleportAction>\\n          </PrivateAction>\\n        </Private>\\n        <Private entityRef=\"pedestrian_w_transform_16540\">\\n          <PrivateAction>\\n            <TeleportAction>\\n              <Position>\\n                <WorldPosition x=\"-95.40179443359375\" y=\"77.87493133544922\" z=\"0.5\"/>\\n              </Position>\\n            </TeleportAction>\\n          </PrivateAction>\\n        </Private>\\n        <Private entityRef=\"pedestrian_close_to_standing_16541\">\\n          <PrivateAction>\\n            <TeleportAction>\\n              <Position>\\n                <WorldPosition x=\"-6.486691951751709\" y=\"28.453325271606445\" z=\"0.0030169677920639515\"/>\\n              </Position>\\n            </TeleportAction>\\n          </PrivateAction>\\n        </Private>\\n        <Private entityRef=\"pedestrian_w_transform_16542\">\\n          <PrivateAction>\\n            <TeleportAction>\\n              <Position>\\n                <WorldPosition x=\"57.99752426147461\" y=\"1.3591190576553345\" z=\"0.5\"/>\\n              </Position>\\n            </TeleportAction>\\n          </PrivateAction>\\n        </Private>\\n        <Private entityRef=\"pedestrian_w_transform_16543\">\\n          <PrivateAction>\\n            <TeleportAction>\\n              <Position>\\n                <WorldPosition x=\"-45.887943267822266\" y=\"1.1243621110916138\" z=\"0.5\"/>\\n              </Position>\\n            </TeleportAction>\\n          </PrivateAction>\\n        </Private>\\n        <Private entityRef=\"pedestrian_w_transform_16544\">\\n          <PrivateAction>\\n            <TeleportAction>\\n              <Position>\\n                <WorldPosition x=\"96.38334655761719\" y=\"42.78038024902344\" z=\"0.5\"/>\\n              </Position>\\n            </TeleportAction>\\n          </PrivateAction>\\n        </Private>\\n        <Private entityRef=\"pedestrian_w_transform_16545\">\\n          <PrivateAction>\\n            <TeleportAction>\\n              <Position>\\n                <WorldPosition x=\"-36.15153503417969\" y=\"59.096099853515625\" z=\"0.5\"/>\\n              </Position>\\n            </TeleportAction>\\n          </PrivateAction>\\n        </Private>\\n        <Private entityRef=\"pedestrian_w_transform_16547\">\\n          <PrivateAction>\\n            <TeleportAction>\\n              <Position>\\n                <WorldPosition x=\"-57.27651596069336\" y=\"-22.17013168334961\" z=\"0.5\"/>\\n              </Position>\\n            </TeleportAction>\\n          </PrivateAction>\\n        </Private>\\n        <Private entityRef=\"pedestrian_close_to_standing_16549\">\\n          <PrivateAction>\\n            <TeleportAction>\\n              <Position>\\n                <WorldPosition x=\"-17.726993560791016\" y=\"21.104719161987305\" z=\"0.0030171202961355448\"/>\\n              </Position>\\n            </TeleportAction>\\n          </PrivateAction>\\n        </Private>\\n        <Private entityRef=\"pedestrian_close_to_adversary_16551\">\\n          <PrivateAction>\\n            <TeleportAction>\\n              <Position>\\n                <WorldPosition x=\"-2.5293822288513184\" y=\"-70.96820831298828\" z=\"0.03376232087612152\"/>\\n              </Position>\\n            </TeleportAction>\\n          </PrivateAction>\\n        </Private>\\n        <Private entityRef=\"pedestrian_close_to_adversary_16553\">\\n          <PrivateAction>\\n            <TeleportAction>\\n              <Position>\\n                <WorldPosition x=\"-1.4799100160598755\" y=\"-74.88185119628906\" z=\"0.03375793248414993\"/>\\n              </Position>\\n            </TeleportAction>\\n          </PrivateAction>\\n        </Private>\\n        <Private entityRef=\"pedestrian_w_transform_16554\">\\n          <PrivateAction>\\n            <TeleportAction>\\n              <Position>\\n                <WorldPosition x=\"-25.356555938720703\" y=\"-16.28318214416504\" z=\"0.5\"/>\\n              </Position>\\n            </TeleportAction>\\n          </PrivateAction>\\n        </Private>\\n        <Private entityRef=\"pedestrian_close_to_standing_16556\">\\n          <PrivateAction>\\n            <TeleportAction>\\n              <Position>\\n                <WorldPosition x=\"-11.27512264251709\" y=\"19.2094669342041\" z=\"0.0030182646587491035\"/>\\n              </Position>\\n            </TeleportAction>\\n          </PrivateAction>\\n        </Private>\\n        <Private entityRef=\"pedestrian_close_to_standing_16559\">\\n          <PrivateAction>\\n            <TeleportAction>\\n              <Position>\\n                <WorldPosition x=\"-16.490455627441406\" y=\"20.9063777923584\" z=\"0.003026237478479743\"/>\\n              </Position>\\n            </TeleportAction>\\n          </PrivateAction>\\n        </Private>\\n        <Private entityRef=\"pedestrian_w_transform_16560\">\\n          <PrivateAction>\\n            <TeleportAction>\\n              <Position>\\n                <WorldPosition x=\"45.77383804321289\" y=\"88.3878173828125\" z=\"0.5\"/>\\n              </Position>\\n            </TeleportAction>\\n          </PrivateAction>\\n        </Private>\\n      </Actions>\\n    </Init>\\n    <Story name=\"MyStory\">\\n      <Act name=\"Behavior\">\\n        <ManeuverGroup maximumExecutionCount=\"1\" name=\"ManeuverSequence\">\\n          <Actors selectTriggeringEntities=\"false\">\\n            <EntityRef entityRef=\"adversary\"/>\\n          </Actors>\\n          <Maneuver name=\"LaneChangeSimpleManeuver\">\\n            <Event name=\"AdversaryAccelerates\" priority=\"overwrite\">\\n              <Action name=\"AdversaryAccelerates\">\\n                <PrivateAction>\\n                  <LongitudinalAction>\\n                    <SpeedAction>\\n                      <SpeedActionDynamics dynamicsShape=\"step\" value=\"50\" dynamicsDimension=\"distance\"/>\\n                      <SpeedActionTarget>\\n                        <AbsoluteTargetSpeed value=\"5.0\"/>\\n                      </SpeedActionTarget>\\n                    </SpeedAction>\\n                  </LongitudinalAction>\\n                </PrivateAction>\\n              </Action>\\n              <StartTrigger>\\n                <ConditionGroup>\\n                  <Condition name=\"StartCondition\" delay=\"0\" conditionEdge=\"rising\">\\n                    <ByEntityCondition>\\n                      <TriggeringEntities triggeringEntitiesRule=\"any\">\\n                        <EntityRef entityRef=\"hero\"/>\\n                      </TriggeringEntities>\\n                      <EntityCondition>\\n                        <RelativeDistanceCondition entityRef=\"adversary\" relativeDistanceType=\"cartesianDistance\" value=\"40.0\" freespace=\"false\" rule=\"lessThan\"/>\\n                      </EntityCondition>\\n                    </ByEntityCondition>\\n                  </Condition>\\n                </ConditionGroup>\\n              </StartTrigger>\\n            </Event>\\n            <Event name=\"AdversaryChangesLane\" priority=\"overwrite\">\\n              <Action name=\"AdversaryChangesLane\">\\n                <PrivateAction>\\n                  <LateralAction>\\n                    <LaneChangeAction>\\n                      <LaneChangeActionDynamics dynamicsShape=\"linear\" value=\"25\" dynamicsDimension=\"distance\"/>\\n                      <LaneChangeTarget>\\n                        <RelativeTargetLane entityRef=\"adversary\" value=\"-1\"/>\\n                      </LaneChangeTarget>\\n                    </LaneChangeAction>\\n                  </LateralAction>\\n                </PrivateAction>\\n              </Action>\\n              <StartTrigger>\\n                <ConditionGroup>\\n                  <Condition name=\"AfterAdversaryAccelerates\" delay=\"0\" conditionEdge=\"rising\">\\n                    <ByValueCondition>\\n                      <StoryboardElementStateCondition storyboardElementType=\"action\" storyboardElementRef=\"AdversaryAccelerates\" state=\"completeState\"/>\\n                    </ByValueCondition>\\n                  </Condition>\\n                </ConditionGroup>\\n              </StartTrigger>\\n            </Event>\\n          </Maneuver>\\n        </ManeuverGroup>\\n        <StartTrigger>\\n          <ConditionGroup>\\n            <Condition name=\"OverallStartCondition\" delay=\"0\" conditionEdge=\"rising\">\\n              <ByEntityCondition>\\n                <TriggeringEntities triggeringEntitiesRule=\"any\">\\n                  <EntityRef entityRef=\"hero\"/>\\n                </TriggeringEntities>\\n                <EntityCondition>\\n                  <TraveledDistanceCondition value=\"1.0\"/>\\n                </EntityCondition>\\n              </ByEntityCondition>\\n            </Condition>\\n            <Condition name=\"StartTime\" delay=\"0\" conditionEdge=\"rising\">\\n              <ByValueCondition>\\n                <SimulationTimeCondition value=\"0\" rule=\"equalTo\"/>\\n              </ByValueCondition>\\n            </Condition>\\n          </ConditionGroup>\\n        </StartTrigger>\\n        <StopTrigger>\\n          <ConditionGroup>\\n            <Condition name=\"EndCondition\" delay=\"0\" conditionEdge=\"rising\">\\n              <ByEntityCondition>\\n                <TriggeringEntities triggeringEntitiesRule=\"any\">\\n                  <EntityRef entityRef=\"hero\"/>\\n                </TriggeringEntities>\\n                <EntityCondition>\\n                  <TraveledDistanceCondition value=\"200.0\"/>\\n                </EntityCondition>\\n              </ByEntityCondition>\\n            </Condition>\\n          </ConditionGroup>\\n        </StopTrigger>\\n      </Act>\\n    </Story>\\n    <StopTrigger>\\n      <ConditionGroup>\\n        <Condition name=\"criteria_RunningStopTest\" delay=\"0\" conditionEdge=\"rising\">\\n          <ByValueCondition>\\n            <ParameterCondition parameterRef=\"\" value=\"\" rule=\"lessThan\"/>\\n          </ByValueCondition>\\n        </Condition>\\n        <Condition name=\"criteria_RunningRedLightTest\" delay=\"0\" conditionEdge=\"rising\">\\n          <ByValueCondition>\\n            <ParameterCondition parameterRef=\"\" value=\"\" rule=\"lessThan\"/>\\n          </ByValueCondition>\\n        </Condition>\\n        <Condition name=\"criteria_WrongLaneTest\" delay=\"0\" conditionEdge=\"rising\">\\n          <ByValueCondition>\\n            <ParameterCondition parameterRef=\"\" value=\"\" rule=\"lessThan\"/>\\n          </ByValueCondition>\\n        </Condition>\\n        <Condition name=\"criteria_OnSidewalkTest\" delay=\"0\" conditionEdge=\"rising\">\\n          <ByValueCondition>\\n            <ParameterCondition parameterRef=\"\" value=\"\" rule=\"lessThan\"/>\\n          </ByValueCondition>\\n        </Condition>\\n        <Condition name=\"criteria_KeepLaneTest\" delay=\"0\" conditionEdge=\"rising\">\\n          <ByValueCondition>\\n            <ParameterCondition parameterRef=\"\" value=\"\" rule=\"lessThan\"/>\\n          </ByValueCondition>\\n        </Condition>\\n        <Condition name=\"criteria_CollisionTest\" delay=\"0\" conditionEdge=\"rising\">\\n          <ByValueCondition>\\n            <ParameterCondition parameterRef=\"\" value=\"\" rule=\"lessThan\"/>\\n          </ByValueCondition>\\n        </Condition>\\n        <Condition name=\"criteria_DrivenDistanceTest\" delay=\"0\" conditionEdge=\"rising\">\\n          <ByValueCondition>\\n            <ParameterCondition parameterRef=\"distance_success\" value=\"100\" rule=\"lessThan\"/>\\n          </ByValueCondition>\\n        </Condition>\\n      </ConditionGroup>\\n    </StopTrigger>\\n  </Storyboard>\\n</OpenSCENARIO>\\n```'}"
      ]
     },
     "execution_count": 3,
     "metadata": {},
     "output_type": "execute_result"
    }
   ],
   "source": [
    "dataset['test'][0]"
   ]
  },
  {
   "cell_type": "code",
   "execution_count": 4,
   "metadata": {},
   "outputs": [],
   "source": [
    "import pandas as pd\n",
    "test = pd.DataFrame(dataset['train'])\n",
    "test = test[[\"request\", \"response\"]]"
   ]
  },
  {
   "cell_type": "code",
   "execution_count": 5,
   "metadata": {},
   "outputs": [
    {
     "data": {
      "text/html": [
       "<div>\n",
       "<style scoped>\n",
       "    .dataframe tbody tr th:only-of-type {\n",
       "        vertical-align: middle;\n",
       "    }\n",
       "\n",
       "    .dataframe tbody tr th {\n",
       "        vertical-align: top;\n",
       "    }\n",
       "\n",
       "    .dataframe thead th {\n",
       "        text-align: right;\n",
       "    }\n",
       "</style>\n",
       "<table border=\"1\" class=\"dataframe\">\n",
       "  <thead>\n",
       "    <tr style=\"text-align: right;\">\n",
       "      <th></th>\n",
       "      <th>request</th>\n",
       "      <th>response</th>\n",
       "    </tr>\n",
       "  </thead>\n",
       "  <tbody>\n",
       "    <tr>\n",
       "      <th>0</th>\n",
       "      <td>i would like to instruct you to remove pedestr...</td>\n",
       "      <td>Here is the result:\\n```\\n&lt;?xml version=\"1.0\" ...</td>\n",
       "    </tr>\n",
       "    <tr>\n",
       "      <th>1</th>\n",
       "      <td>would you add pedestrian close to hero?\\n```\\n...</td>\n",
       "      <td>Here is the result:\\n```\\n&lt;?xml version=\"1.0\" ...</td>\n",
       "    </tr>\n",
       "    <tr>\n",
       "      <th>2</th>\n",
       "      <td>please add pedestrian at location (-14.87, -11...</td>\n",
       "      <td>Here is the result:\\n```\\n&lt;?xml version=\"1.0\" ...</td>\n",
       "    </tr>\n",
       "    <tr>\n",
       "      <th>3</th>\n",
       "      <td>i would like you to display remove pedestrian ...</td>\n",
       "      <td>Here is the result:\\n```\\n&lt;?xml version=\"1.0\" ...</td>\n",
       "    </tr>\n",
       "    <tr>\n",
       "      <th>4</th>\n",
       "      <td>i need you to add pedestrian at location (89.2...</td>\n",
       "      <td>Here is the result:\\n```\\n&lt;?xml version=\"1.0\" ...</td>\n",
       "    </tr>\n",
       "  </tbody>\n",
       "</table>\n",
       "</div>"
      ],
      "text/plain": [
       "                                             request  \\\n",
       "0  i would like to instruct you to remove pedestr...   \n",
       "1  would you add pedestrian close to hero?\\n```\\n...   \n",
       "2  please add pedestrian at location (-14.87, -11...   \n",
       "3  i would like you to display remove pedestrian ...   \n",
       "4  i need you to add pedestrian at location (89.2...   \n",
       "\n",
       "                                            response  \n",
       "0  Here is the result:\\n```\\n<?xml version=\"1.0\" ...  \n",
       "1  Here is the result:\\n```\\n<?xml version=\"1.0\" ...  \n",
       "2  Here is the result:\\n```\\n<?xml version=\"1.0\" ...  \n",
       "3  Here is the result:\\n```\\n<?xml version=\"1.0\" ...  \n",
       "4  Here is the result:\\n```\\n<?xml version=\"1.0\" ...  "
      ]
     },
     "execution_count": 5,
     "metadata": {},
     "output_type": "execute_result"
    }
   ],
   "source": [
    "test.head()"
   ]
  },
  {
   "cell_type": "code",
   "execution_count": 6,
   "metadata": {},
   "outputs": [
    {
     "name": "stdout",
     "output_type": "stream",
     "text": [
      "Starting generation...\n"
     ]
    }
   ],
   "source": [
    "def gen(test):\n",
    "    for i in range(len(test)):\n",
    "        prompt = test.iloc[i][\"request\"]\n",
    "        target = test.iloc[i][\"response\"]\n",
    "        print (\"Starting generation...\")\n",
    "        output = pipe(prompt)\n",
    "        with open(f\"example/prompt_{i}2.xml\", \"w\") as f:\n",
    "            f.write(prompt)\n",
    "        with open(f\"example/target_{i}2.xml\", \"w\") as f:\n",
    "            f.write(target)\n",
    "        with open(f\"example/output_{i}2.xml\", \"w\") as f:\n",
    "            f.write(output[0]['generated_text'])\n",
    "\n",
    "        break\n",
    "gen(test)"
   ]
  },
  {
   "cell_type": "markdown",
   "metadata": {},
   "source": [
    "# Command for Finetuning and Resuming Training of Code-llama"
   ]
  },
  {
   "cell_type": "code",
   "execution_count": null,
   "metadata": {},
   "outputs": [],
   "source": [
    "!accelerate launch codellama/finetune.py --model_id codellama/CodeLlama-13b-Instruct-hf --micro_batch_size 2 --learning_rate 2e-4 --num_proc 2 --streaming 1 --output_dir finetune_codellama --max_steps 300"
   ]
  },
  {
   "cell_type": "code",
   "execution_count": null,
   "metadata": {},
   "outputs": [],
   "source": [
    "!accelerate launch codellama/finetune.py --model_id life2scenario_core/finetune_codellama/checkpoint-30 --micro_batch_size 2 --learning_rate 2e-4 --num_proc 2 --streaming 1 --output_dir finetune_codellama --max_steps 400 --resume 1"
   ]
  }
 ],
 "metadata": {
  "kernelspec": {
   "display_name": "orbbec",
   "language": "python",
   "name": "python3"
  },
  "language_info": {
   "codemirror_mode": {
    "name": "ipython",
    "version": 3
   },
   "file_extension": ".py",
   "mimetype": "text/x-python",
   "name": "python",
   "nbconvert_exporter": "python",
   "pygments_lexer": "ipython3",
   "version": "3.10.12"
  }
 },
 "nbformat": 4,
 "nbformat_minor": 2
}
